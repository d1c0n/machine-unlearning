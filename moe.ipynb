{
 "cells": [
  {
   "cell_type": "code",
   "execution_count": 2,
   "metadata": {},
   "outputs": [],
   "source": [
    "from routedConv2d import OptimizedRoutedConv2d\n",
    "from datasets import load_dataset\n",
    "from torch.utils.data import DataLoader\n",
    "import torch\n",
    "import torch.nn as nn"
   ]
  },
  {
   "cell_type": "code",
   "execution_count": 3,
   "metadata": {},
   "outputs": [
    {
     "data": {
      "application/vnd.jupyter.widget-view+json": {
       "model_id": "6520e46555de4845bb4fcba785b95913",
       "version_major": 2,
       "version_minor": 0
      },
      "text/plain": [
       "Downloading readme:   0%|          | 0.00/9.98k [00:00<?, ?B/s]"
      ]
     },
     "metadata": {},
     "output_type": "display_data"
    },
    {
     "data": {
      "application/vnd.jupyter.widget-view+json": {
       "model_id": "91e80e17e8344eac8dfcb2261d9da833",
       "version_major": 2,
       "version_minor": 0
      },
      "text/plain": [
       "Downloading data:   0%|          | 0.00/119M [00:00<?, ?B/s]"
      ]
     },
     "metadata": {},
     "output_type": "display_data"
    },
    {
     "data": {
      "application/vnd.jupyter.widget-view+json": {
       "model_id": "531d93c655674b34908222ca3e4b2ee0",
       "version_major": 2,
       "version_minor": 0
      },
      "text/plain": [
       "Downloading data:   0%|          | 0.00/23.8M [00:00<?, ?B/s]"
      ]
     },
     "metadata": {},
     "output_type": "display_data"
    },
    {
     "data": {
      "application/vnd.jupyter.widget-view+json": {
       "model_id": "ea2d3fd9365c4edf80e9225bbab2e499",
       "version_major": 2,
       "version_minor": 0
      },
      "text/plain": [
       "Generating train split:   0%|          | 0/50000 [00:00<?, ? examples/s]"
      ]
     },
     "metadata": {},
     "output_type": "display_data"
    },
    {
     "data": {
      "application/vnd.jupyter.widget-view+json": {
       "model_id": "add8ba7099f548f1bee934da1cad0f94",
       "version_major": 2,
       "version_minor": 0
      },
      "text/plain": [
       "Generating test split:   0%|          | 0/10000 [00:00<?, ? examples/s]"
      ]
     },
     "metadata": {},
     "output_type": "display_data"
    }
   ],
   "source": [
    "dataset = load_dataset(\"cifar100\")"
   ]
  },
  {
   "cell_type": "code",
   "execution_count": 11,
   "metadata": {},
   "outputs": [
    {
     "data": {
      "text/plain": [
       "DatasetDict({\n",
       "    train: Dataset({\n",
       "        features: ['img', 'fine_label', 'coarse_label'],\n",
       "        num_rows: 50000\n",
       "    })\n",
       "    test: Dataset({\n",
       "        features: ['img', 'fine_label', 'coarse_label'],\n",
       "        num_rows: 10000\n",
       "    })\n",
       "})"
      ]
     },
     "execution_count": 11,
     "metadata": {},
     "output_type": "execute_result"
    }
   ],
   "source": [
    "dataset"
   ]
  },
  {
   "cell_type": "code",
   "execution_count": 4,
   "metadata": {},
   "outputs": [],
   "source": [
    "from torchvision import transforms\n",
    "import torchvision\n",
    "\n",
    "# compose the transforms\n",
    "transform = transforms.Compose(\n",
    "    [\n",
    "        transforms.ToTensor(),\n",
    "        transforms.Normalize(mean=[0.485, 0.456, 0.406], std=[0.229, 0.224, 0.225]),\n",
    "    ]\n",
    ")"
   ]
  },
  {
   "cell_type": "code",
   "execution_count": 12,
   "metadata": {},
   "outputs": [],
   "source": [
    "def collate_fn(batch):\n",
    "    imgs = []\n",
    "    labels = []\n",
    "    for i in range(len(batch)):\n",
    "        img = batch[i][\"img\"]\n",
    "        img = transform(torchvision.transforms.ToPILImage()(img).convert(\"RGB\"))\n",
    "        imgs.append(img)\n",
    "        labels.append(batch[i][\"coarse_label\"])\n",
    "    return {\n",
    "        \"img\": torch.stack(imgs),\n",
    "        \"coarse_label\": torch.tensor(labels),\n",
    "    }"
   ]
  },
  {
   "cell_type": "code",
   "execution_count": 6,
   "metadata": {},
   "outputs": [],
   "source": [
    "import torch.nn as nn\n",
    "import torch\n",
    "\n",
    "\n",
    "class SparseMoEConvBlock(nn.Module):\n",
    "    def __init__(\n",
    "        self,\n",
    "        router_dim,\n",
    "        in_channels,\n",
    "        num_experts=8,\n",
    "        top_k=2,\n",
    "        device=\"cuda\",\n",
    "    ):\n",
    "        super().__init__()\n",
    "        self.num_experts = num_experts\n",
    "        self.in_channels = in_channels\n",
    "        self.router_dim = router_dim\n",
    "        self.top_k = top_k\n",
    "        self.device = device\n",
    "\n",
    "        self.router = nn.Linear(router_dim, num_experts, bias=False)\n",
    "        # initialize the router weights to be random\n",
    "        nn.init.xavier_uniform_(self.router.weight)\n",
    "        self.experts = nn.ModuleList(\n",
    "            [\n",
    "                nn.Conv2d(in_channels, in_channels, 3, padding=1)\n",
    "                for _ in range(num_experts)\n",
    "            ]\n",
    "        )\n",
    "\n",
    "        self.register_buffer(\"experts_used\", torch.zeros(num_experts))\n",
    "\n",
    "    def forward(self, x):\n",
    "        batch_size, _, height, width = x.shape\n",
    "        router_logits = self.router(x.view(batch_size, -1))\n",
    "        router_output = nn.functional.softmax(router_logits, dim=1)\n",
    "\n",
    "        router_avg = torch.mean(router_output, dim=0)\n",
    "        target = torch.tensor([1 / self.num_experts] * self.num_experts).to(self.device)\n",
    "        criterion = nn.MSELoss()\n",
    "        router_loss = criterion(router_avg, target)\n",
    "\n",
    "        routing_weights, selected_experts = torch.topk(router_output, self.top_k)\n",
    "\n",
    "        # Create mask for the selected experts (batch_size, num_experts)\n",
    "        expert_mask = torch.zeros(batch_size, self.num_experts).to(x.device)\n",
    "        expert_mask.scatter_(1, selected_experts, 1)\n",
    "\n",
    "        self.experts_used = self.experts_used.to(x.device)\n",
    "        self.experts_used += torch.sum(expert_mask, dim=0)\n",
    "\n",
    "        expert_outputs = torch.zeros(\n",
    "            batch_size, self.in_channels * self.top_k, height, width\n",
    "        ).to(x.device)\n",
    "\n",
    "        for i, expert_idx in enumerate(selected_experts[0]):\n",
    "            expert_layer = self.experts[expert_idx]\n",
    "            # We select the corresponding routing weights for the expert\n",
    "            routing_weights_expert = routing_weights[0, i]\n",
    "\n",
    "            out = expert_layer(x)\n",
    "            # out = out * routing_weights_expert.unsqueeze(-1).unsqueeze(-1)\n",
    "\n",
    "            expert_outputs[:, i * self.in_channels : (i + 1) * self.in_channels] = out\n",
    "\n",
    "        return expert_outputs, router_loss\n",
    "\n",
    "    def get_experts_used(self):\n",
    "        return self.experts_used\n",
    "\n",
    "    def get_experts_load_balancing_loss(self):\n",
    "        return torch.std(self.experts_used)\n",
    "\n",
    "    def reset_experts_used(self):\n",
    "        self.experts_used = torch.zeros(self.num_experts)\n"
   ]
  },
  {
   "cell_type": "code",
   "execution_count": 7,
   "metadata": {},
   "outputs": [],
   "source": [
    "class SparseMoEConvBlockWeighted(nn.Module):\n",
    "    def __init__(\n",
    "        self,\n",
    "        router_dim,\n",
    "        in_channels,\n",
    "        out_channels,\n",
    "        num_experts=8,\n",
    "        top_k=2,\n",
    "        kernel_size=3,\n",
    "        stride=1,\n",
    "        padding=1,\n",
    "        device=\"cuda\",\n",
    "    ):\n",
    "        super().__init__()\n",
    "        self.num_experts = num_experts\n",
    "        self.in_channels = in_channels\n",
    "        self.out_channels = out_channels\n",
    "        self.router_dim = router_dim\n",
    "        self.top_k = top_k\n",
    "        self.device = device\n",
    "        self.kernel_size = kernel_size\n",
    "        self.stride = stride\n",
    "        self.padding = padding\n",
    "\n",
    "        self.router = nn.Linear(router_dim, num_experts, bias=False)\n",
    "        # initialize the router weights to be random\n",
    "        nn.init.xavier_uniform_(self.router.weight)\n",
    "        self.experts = nn.ModuleList(\n",
    "            [\n",
    "                nn.Conv2d(\n",
    "                    in_channels,\n",
    "                    out_channels,\n",
    "                    kernel_size=self.kernel_size,\n",
    "                    stride=self.stride,\n",
    "                    padding=self.padding,\n",
    "                )\n",
    "                for _ in range(num_experts)\n",
    "            ]\n",
    "        )\n",
    "\n",
    "    def forward(self, x):\n",
    "        batch_size, _, height, width = x.shape\n",
    "        router_logits = self.router(x.view(batch_size, -1))\n",
    "        router_output = nn.functional.softmax(router_logits, dim=1)\n",
    "\n",
    "        router_avg = torch.mean(router_output, dim=0)\n",
    "        target = torch.tensor([1 / self.num_experts] * self.num_experts).to(self.device)\n",
    "        criterion = nn.MSELoss()\n",
    "        router_loss = criterion(router_avg, target)\n",
    "\n",
    "        routing_weights, selected_experts = torch.topk(router_output, self.top_k)\n",
    "\n",
    "        expert_outputs = torch.zeros(batch_size, self.out_channels, height, width).to(\n",
    "            x.device\n",
    "        )\n",
    "\n",
    "        for i, expert_idx in enumerate(selected_experts[0]):\n",
    "            expert_layer = self.experts[expert_idx]\n",
    "            # We select the corresponding routing weights for the expert\n",
    "            routing_weights_expert = routing_weights[0, i]\n",
    "\n",
    "            out = expert_layer(x)\n",
    "            out = out * routing_weights_expert.unsqueeze(-1).unsqueeze(-1)\n",
    "\n",
    "            expert_outputs += out\n",
    "\n",
    "        return expert_outputs, router_loss\n"
   ]
  },
  {
   "cell_type": "code",
   "execution_count": 8,
   "metadata": {},
   "outputs": [],
   "source": [
    "class SimpleCNN(nn.Module):\n",
    "    def __init__(self):\n",
    "        super(SimpleCNN, self).__init__()\n",
    "        self.conv1 = nn.Conv2d(3, 6, 3, 1, 1)\n",
    "        self.conv2 = nn.Conv2d(6, 12, 3, 1, 1)\n",
    "        self.fc1 = nn.Linear(12 * 32 * 32, 128)\n",
    "        self.fc2 = nn.Linear(128, 10)\n",
    "\n",
    "    def forward(self, x):\n",
    "        x = torch.relu(self.conv1(x))\n",
    "        x = torch.relu(self.conv2(x))\n",
    "        x = x.view(-1, 12 * 32 * 32)\n",
    "        x = torch.relu(self.fc1(x))\n",
    "        x = self.fc2(x)\n",
    "        return x\n",
    "\n",
    "\n",
    "class RoutedCNN(nn.Module):\n",
    "    def __init__(self, device=\"cuda\"):\n",
    "        super(RoutedCNN, self).__init__()\n",
    "        self.conv1 = SparseMoEConvBlockWeighted(\n",
    "            router_dim=3 * 32 * 32,\n",
    "            in_channels=3,\n",
    "            out_channels=24,\n",
    "            num_experts=10,\n",
    "            top_k=1,\n",
    "        )\n",
    "        # self.conv2 = SparseMoEConvBlockWeighted(\n",
    "        #     router_dim=12 * 32 * 32,\n",
    "        #     in_channels=12,\n",
    "        #     out_channels=24,\n",
    "        #     num_experts=10,\n",
    "        #     top_k=1,\n",
    "        # )\n",
    "        self.fc1 = nn.Linear(24 * 32 * 32, 128)\n",
    "        self.fc2 = nn.Linear(128, 100)\n",
    "        self.device = device\n",
    "\n",
    "    def forward(self, x, return_router_loss=False):\n",
    "        x, router_loss_1 = self.conv1(x)\n",
    "        x = torch.relu(x)\n",
    "        # x, router_loss_2 = self.conv2(x)\n",
    "        # x = torch.relu(x)\n",
    "        x = x.view(-1, 24 * 32 * 32)\n",
    "        x = torch.relu(self.fc1(x))\n",
    "        x = self.fc2(x)\n",
    "        if return_router_loss:\n",
    "            return x, router_loss_1  # + router_loss_2\n",
    "        else:\n",
    "            return x\n"
   ]
  },
  {
   "cell_type": "code",
   "execution_count": 15,
   "metadata": {},
   "outputs": [],
   "source": [
    "train_loader = DataLoader(\n",
    "    dataset[\"train\"].with_format(\"torch\"),\n",
    "    batch_size=32,\n",
    "    shuffle=True,\n",
    "    collate_fn=collate_fn,\n",
    ")\n",
    "\n",
    "test_loader = DataLoader(\n",
    "    dataset[\"test\"].with_format(\"torch\"),\n",
    "    batch_size=32,\n",
    "    shuffle=False,\n",
    "    collate_fn=collate_fn,\n",
    ")"
   ]
  },
  {
   "cell_type": "code",
   "execution_count": 17,
   "metadata": {},
   "outputs": [
    {
     "data": {
      "application/vnd.jupyter.widget-view+json": {
       "model_id": "7a27099604694814b142e8f4e3a533e1",
       "version_major": 2,
       "version_minor": 0
      },
      "text/plain": [
       "  0%|          | 0/1563 [00:00<?, ?it/s]"
      ]
     },
     "metadata": {},
     "output_type": "display_data"
    },
    {
     "name": "stdout",
     "output_type": "stream",
     "text": [
      "Epoch [1/10], Step [1563/1563], Loss: 2.5952, Router loss: 0.0126\n"
     ]
    },
    {
     "data": {
      "application/vnd.jupyter.widget-view+json": {
       "model_id": "f0afebf1e15d48e18307a2fbe383fc48",
       "version_major": 2,
       "version_minor": 0
      },
      "text/plain": [
       "  0%|          | 0/313 [00:00<?, ?it/s]"
      ]
     },
     "metadata": {},
     "output_type": "display_data"
    },
    {
     "name": "stdout",
     "output_type": "stream",
     "text": [
      "F1 score of the model on the test images: 0.11458333333333333\n",
      "Accuracy of the model on the test images: 24.62%\n"
     ]
    },
    {
     "data": {
      "application/vnd.jupyter.widget-view+json": {
       "model_id": "21dc38b8b4f744cbbe9c209de3adac56",
       "version_major": 2,
       "version_minor": 0
      },
      "text/plain": [
       "  0%|          | 0/1563 [00:00<?, ?it/s]"
      ]
     },
     "metadata": {},
     "output_type": "display_data"
    },
    {
     "name": "stdout",
     "output_type": "stream",
     "text": [
      "Epoch [2/10], Step [1563/1563], Loss: 2.4272, Router loss: 0.0190\n"
     ]
    },
    {
     "data": {
      "application/vnd.jupyter.widget-view+json": {
       "model_id": "1c256bd3af9c43dfa85870820f8d95f5",
       "version_major": 2,
       "version_minor": 0
      },
      "text/plain": [
       "  0%|          | 0/313 [00:00<?, ?it/s]"
      ]
     },
     "metadata": {},
     "output_type": "display_data"
    },
    {
     "name": "stdout",
     "output_type": "stream",
     "text": [
      "F1 score of the model on the test images: 0.1952380952380952\n",
      "Accuracy of the model on the test images: 28.77%\n"
     ]
    },
    {
     "data": {
      "application/vnd.jupyter.widget-view+json": {
       "model_id": "14488dd2def641d1ba08a8b98b83c212",
       "version_major": 2,
       "version_minor": 0
      },
      "text/plain": [
       "  0%|          | 0/1563 [00:00<?, ?it/s]"
      ]
     },
     "metadata": {},
     "output_type": "display_data"
    },
    {
     "name": "stdout",
     "output_type": "stream",
     "text": [
      "Epoch [3/10], Step [1563/1563], Loss: 1.7068, Router loss: 0.0141\n"
     ]
    },
    {
     "data": {
      "application/vnd.jupyter.widget-view+json": {
       "model_id": "ad40775be8024b9cbbc43f8766fa78a2",
       "version_major": 2,
       "version_minor": 0
      },
      "text/plain": [
       "  0%|          | 0/313 [00:00<?, ?it/s]"
      ]
     },
     "metadata": {},
     "output_type": "display_data"
    },
    {
     "name": "stdout",
     "output_type": "stream",
     "text": [
      "F1 score of the model on the test images: 0.04444444444444444\n",
      "Accuracy of the model on the test images: 30.73%\n"
     ]
    },
    {
     "data": {
      "application/vnd.jupyter.widget-view+json": {
       "model_id": "24f867d3147e4677b927543b5ed20635",
       "version_major": 2,
       "version_minor": 0
      },
      "text/plain": [
       "  0%|          | 0/1563 [00:00<?, ?it/s]"
      ]
     },
     "metadata": {},
     "output_type": "display_data"
    },
    {
     "name": "stdout",
     "output_type": "stream",
     "text": [
      "Epoch [4/10], Step [1563/1563], Loss: 2.1131, Router loss: 0.0087\n"
     ]
    },
    {
     "data": {
      "application/vnd.jupyter.widget-view+json": {
       "model_id": "a98c4a2acd4843e3a36fb26091f698e5",
       "version_major": 2,
       "version_minor": 0
      },
      "text/plain": [
       "  0%|          | 0/313 [00:00<?, ?it/s]"
      ]
     },
     "metadata": {},
     "output_type": "display_data"
    },
    {
     "name": "stdout",
     "output_type": "stream",
     "text": [
      "F1 score of the model on the test images: 0.20714285714285713\n",
      "Accuracy of the model on the test images: 33.99%\n"
     ]
    },
    {
     "data": {
      "application/vnd.jupyter.widget-view+json": {
       "model_id": "e97b25b9580f4df0a6e1169e71605b48",
       "version_major": 2,
       "version_minor": 0
      },
      "text/plain": [
       "  0%|          | 0/1563 [00:00<?, ?it/s]"
      ]
     },
     "metadata": {},
     "output_type": "display_data"
    },
    {
     "name": "stdout",
     "output_type": "stream",
     "text": [
      "Epoch [5/10], Step [1563/1563], Loss: 2.2682, Router loss: 0.0126\n"
     ]
    },
    {
     "data": {
      "application/vnd.jupyter.widget-view+json": {
       "model_id": "fbe259c9fe934879ba2c531bd814f04d",
       "version_major": 2,
       "version_minor": 0
      },
      "text/plain": [
       "  0%|          | 0/313 [00:00<?, ?it/s]"
      ]
     },
     "metadata": {},
     "output_type": "display_data"
    },
    {
     "name": "stdout",
     "output_type": "stream",
     "text": [
      "F1 score of the model on the test images: 0.14444444444444443\n",
      "Accuracy of the model on the test images: 33.48%\n"
     ]
    },
    {
     "data": {
      "application/vnd.jupyter.widget-view+json": {
       "model_id": "18ef966a855846e0b57eadff9a5eff22",
       "version_major": 2,
       "version_minor": 0
      },
      "text/plain": [
       "  0%|          | 0/1563 [00:00<?, ?it/s]"
      ]
     },
     "metadata": {},
     "output_type": "display_data"
    },
    {
     "name": "stdout",
     "output_type": "stream",
     "text": [
      "Epoch [6/10], Step [1563/1563], Loss: 1.8456, Router loss: 0.0056\n"
     ]
    },
    {
     "data": {
      "application/vnd.jupyter.widget-view+json": {
       "model_id": "20049e5ffeaf4218a6bc6c7b0ded48cd",
       "version_major": 2,
       "version_minor": 0
      },
      "text/plain": [
       "  0%|          | 0/313 [00:00<?, ?it/s]"
      ]
     },
     "metadata": {},
     "output_type": "display_data"
    },
    {
     "name": "stdout",
     "output_type": "stream",
     "text": [
      "F1 score of the model on the test images: 0.09777777777777778\n",
      "Accuracy of the model on the test images: 34.28%\n"
     ]
    },
    {
     "data": {
      "application/vnd.jupyter.widget-view+json": {
       "model_id": "73aa2a9f1f404dd580a760ce440cd675",
       "version_major": 2,
       "version_minor": 0
      },
      "text/plain": [
       "  0%|          | 0/1563 [00:00<?, ?it/s]"
      ]
     },
     "metadata": {},
     "output_type": "display_data"
    },
    {
     "name": "stdout",
     "output_type": "stream",
     "text": [
      "Epoch [7/10], Step [1563/1563], Loss: 1.8287, Router loss: 0.0056\n"
     ]
    },
    {
     "data": {
      "application/vnd.jupyter.widget-view+json": {
       "model_id": "12f5c917fb47414a838313eaae2c9e54",
       "version_major": 2,
       "version_minor": 0
      },
      "text/plain": [
       "  0%|          | 0/313 [00:00<?, ?it/s]"
      ]
     },
     "metadata": {},
     "output_type": "display_data"
    },
    {
     "name": "stdout",
     "output_type": "stream",
     "text": [
      "F1 score of the model on the test images: 0.16041666666666665\n",
      "Accuracy of the model on the test images: 34.98%\n"
     ]
    },
    {
     "data": {
      "application/vnd.jupyter.widget-view+json": {
       "model_id": "5c55d19c0e4f4fd2b28912bcffb32f24",
       "version_major": 2,
       "version_minor": 0
      },
      "text/plain": [
       "  0%|          | 0/1563 [00:00<?, ?it/s]"
      ]
     },
     "metadata": {},
     "output_type": "display_data"
    },
    {
     "name": "stdout",
     "output_type": "stream",
     "text": [
      "Epoch [8/10], Step [1563/1563], Loss: 1.9690, Router loss: 0.0213\n"
     ]
    },
    {
     "data": {
      "application/vnd.jupyter.widget-view+json": {
       "model_id": "1f596dc83d6c47c1b748e524db414c5b",
       "version_major": 2,
       "version_minor": 0
      },
      "text/plain": [
       "  0%|          | 0/313 [00:00<?, ?it/s]"
      ]
     },
     "metadata": {},
     "output_type": "display_data"
    },
    {
     "name": "stdout",
     "output_type": "stream",
     "text": [
      "F1 score of the model on the test images: 0.12037037037037036\n",
      "Accuracy of the model on the test images: 36.3%\n"
     ]
    },
    {
     "data": {
      "application/vnd.jupyter.widget-view+json": {
       "model_id": "5ddaaeff43e549ee9c9cf62d156fe965",
       "version_major": 2,
       "version_minor": 0
      },
      "text/plain": [
       "  0%|          | 0/1563 [00:00<?, ?it/s]"
      ]
     },
     "metadata": {},
     "output_type": "display_data"
    },
    {
     "name": "stdout",
     "output_type": "stream",
     "text": [
      "Epoch [9/10], Step [1563/1563], Loss: 1.3982, Router loss: 0.0103\n"
     ]
    },
    {
     "data": {
      "application/vnd.jupyter.widget-view+json": {
       "model_id": "5c3555b1c1814636b88bd8a9ac16744d",
       "version_major": 2,
       "version_minor": 0
      },
      "text/plain": [
       "  0%|          | 0/313 [00:00<?, ?it/s]"
      ]
     },
     "metadata": {},
     "output_type": "display_data"
    },
    {
     "name": "stdout",
     "output_type": "stream",
     "text": [
      "F1 score of the model on the test images: 0.15625\n",
      "Accuracy of the model on the test images: 36.48%\n"
     ]
    },
    {
     "data": {
      "application/vnd.jupyter.widget-view+json": {
       "model_id": "274be1505ddf4dec8a1a167ac1aec8da",
       "version_major": 2,
       "version_minor": 0
      },
      "text/plain": [
       "  0%|          | 0/1563 [00:00<?, ?it/s]"
      ]
     },
     "metadata": {},
     "output_type": "display_data"
    },
    {
     "name": "stdout",
     "output_type": "stream",
     "text": [
      "Epoch [10/10], Step [1563/1563], Loss: 1.3988, Router loss: 0.0072\n"
     ]
    },
    {
     "data": {
      "application/vnd.jupyter.widget-view+json": {
       "model_id": "fd4e8f529ddb4f6dad3000c13d155a55",
       "version_major": 2,
       "version_minor": 0
      },
      "text/plain": [
       "  0%|          | 0/313 [00:00<?, ?it/s]"
      ]
     },
     "metadata": {},
     "output_type": "display_data"
    },
    {
     "name": "stdout",
     "output_type": "stream",
     "text": [
      "F1 score of the model on the test images: 0.2111111111111111\n",
      "Accuracy of the model on the test images: 36.86%\n"
     ]
    }
   ],
   "source": [
    "from tqdm.notebook import tqdm\n",
    "from sklearn.metrics import accuracy_score, f1_score, classification_report\n",
    "\n",
    "\n",
    "num_epochs = 10\n",
    "device = torch.device(\"cuda\" if torch.cuda.is_available() else \"cpu\")\n",
    "\n",
    "model = RoutedCNN().to(device)\n",
    "\n",
    "learning_rate = 0.001\n",
    "\n",
    "criterion = nn.CrossEntropyLoss()\n",
    "optimizer = torch.optim.Adam(model.parameters(), lr=learning_rate)\n",
    "\n",
    "for epoch in range(num_epochs):\n",
    "    for i, batch in enumerate(tqdm(train_loader)):\n",
    "        images = batch[\"img\"].to(device)\n",
    "        labels = batch[\"coarse_label\"].to(device)\n",
    "\n",
    "        outputs, router_loss = model(images, return_router_loss=True)\n",
    "        loss = criterion(outputs, labels)\n",
    "\n",
    "        # # Compute the load balancing loss\n",
    "        # load_balancing_loss = 0\n",
    "        # for module in model.modules():\n",
    "        #     if isinstance(module, SparseMoEConvBlock):\n",
    "        #         load_balancing_loss += module.get_experts_load_balancing_loss()\n",
    "        #         module.reset_experts_used()\n",
    "\n",
    "        # Combine the losses\n",
    "        lambda_balance = (\n",
    "            10  # Adjust this hyperparameter to control the strength of load balancing\n",
    "        )\n",
    "\n",
    "        total_loss = loss + lambda_balance * router_loss\n",
    "        optimizer.zero_grad()\n",
    "        total_loss.backward()\n",
    "        optimizer.step()\n",
    "\n",
    "        if (i + 1) % len(train_loader) == 0:\n",
    "            print(\n",
    "                f\"Epoch [{epoch + 1}/{num_epochs}], Step [{i + 1}/{len(train_loader)}], Loss: {total_loss.item():.4f}, Router loss: {router_loss.item():.4f}\"\n",
    "            )\n",
    "\n",
    "    model.eval()\n",
    "    with torch.no_grad():\n",
    "        correct = 0\n",
    "        total = 0\n",
    "        for batch in tqdm(test_loader):\n",
    "            images = batch[\"img\"].to(device)\n",
    "            labels = batch[\"coarse_label\"].to(device)\n",
    "            outputs = model(images)\n",
    "            # for module in model.modules():\n",
    "            #     if isinstance(module, SparseMoEConvBlock):\n",
    "            # print(f\"Experts used std: {torch.std(module.get_experts_used())}\")\n",
    "            # module.reset_experts_used()\n",
    "            _, predicted = torch.max(outputs.data, 1)\n",
    "            total += labels.size(0)\n",
    "            correct += (predicted == labels).sum().item()\n",
    "\n",
    "        print(\n",
    "            f\"F1 score of the model on the test images: {f1_score(labels.cpu(), predicted.cpu(), average='macro')}\"\n",
    "        )\n",
    "        print(f\"Accuracy of the model on the test images: {100 * correct / total}%\")\n"
   ]
  },
  {
   "cell_type": "code",
   "execution_count": 22,
   "metadata": {},
   "outputs": [],
   "source": [
    "torch.save(model.state_dict(), \"routed_cnn_100.pth\")"
   ]
  },
  {
   "cell_type": "code",
   "execution_count": 23,
   "metadata": {},
   "outputs": [
    {
     "data": {
      "application/vnd.jupyter.widget-view+json": {
       "model_id": "c23871ecfb0647b3a232c4642fe7e4b6",
       "version_major": 2,
       "version_minor": 0
      },
      "text/plain": [
       "  0%|          | 0/313 [00:00<?, ?it/s]"
      ]
     },
     "metadata": {},
     "output_type": "display_data"
    },
    {
     "name": "stdout",
     "output_type": "stream",
     "text": [
      "Accuracy of the model on the test images: 36.86%\n",
      "              precision    recall  f1-score   support\n",
      "\n",
      "           0       0.30      0.39      0.34       500\n",
      "           1       0.34      0.38      0.36       500\n",
      "           2       0.48      0.65      0.55       500\n",
      "           3       0.52      0.27      0.35       500\n",
      "           4       0.42      0.38      0.40       500\n",
      "           5       0.28      0.35      0.32       500\n",
      "           6       0.33      0.44      0.37       500\n",
      "           7       0.34      0.40      0.37       500\n",
      "           8       0.29      0.20      0.24       500\n",
      "           9       0.46      0.43      0.44       500\n",
      "          10       0.46      0.60      0.52       500\n",
      "          11       0.30      0.25      0.27       500\n",
      "          12       0.27      0.25      0.26       500\n",
      "          13       0.11      0.01      0.02       500\n",
      "          14       0.36      0.56      0.44       500\n",
      "          15       0.19      0.18      0.19       500\n",
      "          16       0.24      0.17      0.20       500\n",
      "          17       0.62      0.71      0.66       500\n",
      "          18       0.47      0.37      0.41       500\n",
      "          19       0.35      0.37      0.36       500\n",
      "\n",
      "    accuracy                           0.37     10000\n",
      "   macro avg       0.36      0.37      0.35     10000\n",
      "weighted avg       0.36      0.37      0.35     10000\n",
      "\n"
     ]
    }
   ],
   "source": [
    "model.eval()\n",
    "with torch.no_grad():\n",
    "    correct = 0\n",
    "    total = 0\n",
    "    preds = []\n",
    "    targets = []\n",
    "    for batch in tqdm(test_loader):\n",
    "        images = batch[\"img\"].to(device)\n",
    "        labels = batch[\"coarse_label\"].to(device)\n",
    "        outputs = model(images)\n",
    "        # for module in model.modules():\n",
    "        #     if isinstance(module, SparseMoEConvBlock):\n",
    "        # print(f\"Experts used std: {torch.std(module.get_experts_used())}\")\n",
    "        # module.reset_experts_used()\n",
    "        _, predicted = torch.max(outputs.data, 1)\n",
    "        total += labels.size(0)\n",
    "        correct += (predicted == labels).sum().item()\n",
    "        preds.extend(predicted.cpu().numpy())\n",
    "        targets.extend(labels.cpu().numpy())\n",
    "\n",
    "    print(f\"Accuracy of the model on the test images: {100 * correct / total}%\")\n",
    "    print(classification_report(targets, preds))"
   ]
  },
  {
   "cell_type": "code",
   "execution_count": 31,
   "metadata": {},
   "outputs": [],
   "source": [
    "import torch\n",
    "import torch.nn as nn\n",
    "import torch.optim as optim\n",
    "\n",
    "\n",
    "def identify_top_experts(model, dataloader, target_class, num_top_experts=2):\n",
    "    model.eval()\n",
    "    expert_usage = {i: 0 for i in range(model.conv1.num_experts)}\n",
    "\n",
    "    with torch.no_grad():\n",
    "        for batch in dataloader:\n",
    "            inputs = batch[\"img\"]\n",
    "            labels = batch[\"coarse_label\"]\n",
    "            inputs, labels = inputs.to(device), labels.to(device)\n",
    "            mask = labels == target_class\n",
    "            if not mask.any():\n",
    "                continue\n",
    "\n",
    "            target_inputs = inputs[mask]\n",
    "\n",
    "            # Forward pass through conv1\n",
    "            router_output = model.conv1.router(\n",
    "                target_inputs.view(target_inputs.size(0), -1)\n",
    "            )\n",
    "            _, selected_experts = torch.topk(router_output, model.conv1.top_k)\n",
    "\n",
    "            for expert in selected_experts.flatten():\n",
    "                expert_usage[expert.item()] += 1\n",
    "\n",
    "    # Sort experts by usage and return top num_top_experts\n",
    "    sorted_experts = sorted(expert_usage.items(), key=lambda x: x[1], reverse=True)\n",
    "    return [expert for expert, _ in sorted_experts[:num_top_experts]]\n",
    "\n",
    "\n",
    "def evaluate_model(model, test_loader, target_class):\n",
    "    model.eval()\n",
    "    with torch.no_grad():\n",
    "        correct = 0\n",
    "        total = 0\n",
    "        preds = []\n",
    "        targets = []\n",
    "        for batch in tqdm(test_loader):\n",
    "            images = batch[\"img\"].to(device)\n",
    "            labels = batch[\"coarse_label\"].to(device)\n",
    "            outputs = model(images)\n",
    "            _, predicted = torch.max(outputs.data, 1)\n",
    "            total += labels.size(0)\n",
    "            correct += (predicted == labels).sum().item()\n",
    "            preds.extend(predicted.cpu().numpy())\n",
    "            targets.extend(labels.cpu().numpy())\n",
    "\n",
    "            # Accuracy on target class\n",
    "        correct_target = 0\n",
    "        total_target = 0\n",
    "        for pred, target in zip(preds, targets):\n",
    "            if target == target_class:\n",
    "                total_target += 1\n",
    "                if pred == target:\n",
    "                    correct_target += 1\n",
    "\n",
    "        # Accuracy on non-target classes\n",
    "        correct_non_target = 0\n",
    "        total_non_target = 0\n",
    "        for pred, target in zip(preds, targets):\n",
    "            if target != target_class:\n",
    "                total_non_target += 1\n",
    "                if pred == target:\n",
    "                    correct_non_target += 1\n",
    "\n",
    "        accuracy_target = 100 * correct_target / total_target\n",
    "        accuracy_non_target = 100 * correct_non_target / total_non_target\n",
    "        return accuracy_target, accuracy_non_target, targets, preds\n",
    "\n",
    "\n",
    "class UnlearningLoss(nn.Module):\n",
    "    def __init__(self, target_class, penalty_weight=2):\n",
    "        super().__init__()\n",
    "        self.target_class = target_class\n",
    "        self.ce_loss = nn.CrossEntropyLoss()\n",
    "        self.penalty_weight = penalty_weight\n",
    "\n",
    "    def forward(self, outputs, labels):\n",
    "        # Standard cross-entropy loss\n",
    "        # change labels of target class to random class != target_class\n",
    "        labels = torch.where(\n",
    "            labels == self.target_class,\n",
    "            torch.randint_like(labels, 0, 9),\n",
    "            labels,\n",
    "        )\n",
    "\n",
    "        ce_loss = self.ce_loss(outputs, labels)\n",
    "\n",
    "        # # Penalize correct classification of target class\n",
    "        # target_mask = labels == self.target_class\n",
    "        # if target_mask.any():\n",
    "        #     target_outputs = outputs[target_mask]\n",
    "        #     target_loss = -torch.log_softmax(target_outputs, dim=1)[\n",
    "        #         :, self.target_class\n",
    "        #     ].mean()\n",
    "        #     return ce_loss + target_loss\n",
    "\n",
    "        predicted = torch.argmax(outputs, 1)\n",
    "\n",
    "        # Penalize correct classification of target class\n",
    "        correct_target_class_mask = (predicted == labels) & (\n",
    "            labels == self.target_class\n",
    "        )\n",
    "\n",
    "        penalty = correct_target_class_mask.sum() * self.penalty_weight\n",
    "\n",
    "        return ce_loss + penalty\n",
    "\n",
    "\n",
    "def unlearning_procedure(\n",
    "    model,\n",
    "    train_dataloader,\n",
    "    test_dataloder,\n",
    "    target_class,\n",
    "    num_epochs=20,\n",
    "    learning_rate=0.001,\n",
    "):\n",
    "    # print(model)\n",
    "    # Identify top experts for the target class\n",
    "    top_experts = identify_top_experts(model, train_dataloader, target_class)\n",
    "    # print(f\"Top experts for class {target_class}: {top_experts}\")\n",
    "\n",
    "    # Freeze all parameters except the identified experts\n",
    "    for name, param in model.named_parameters():\n",
    "        param.requires_grad = False\n",
    "\n",
    "    for expert_idx in top_experts:\n",
    "        for param in model.conv1.experts[expert_idx].parameters():\n",
    "            param.requires_grad = True\n",
    "\n",
    "    model.conv1.router.weight.requires_grad = True\n",
    "\n",
    "    model.fc2.weight.requires_grad = True\n",
    "    # Set up optimizer and loss function\n",
    "    optimizer = optim.Adam(\n",
    "        filter(lambda p: p.requires_grad, model.parameters()), lr=learning_rate\n",
    "    )\n",
    "    unlearning_loss = UnlearningLoss(target_class)\n",
    "\n",
    "    model.train()\n",
    "    for epoch in range(num_epochs):\n",
    "        total_loss = 0\n",
    "        for batch in train_dataloader:\n",
    "            inputs = batch[\"img\"]\n",
    "            labels = batch[\"coarse_label\"]\n",
    "            inputs, labels = inputs.to(device), labels.to(device)\n",
    "\n",
    "            optimizer.zero_grad()\n",
    "            outputs = model(inputs)\n",
    "            loss = unlearning_loss(outputs, labels)\n",
    "            loss.backward()\n",
    "            optimizer.step()\n",
    "\n",
    "            total_loss += loss.item()\n",
    "\n",
    "        # print(\n",
    "        #    f\"Epoch {epoch+1}/{num_epochs}, Loss: {total_loss/len(train_dataloader):.4f}\"\n",
    "        # )\n",
    "\n",
    "    # Unfreeze all parameters\n",
    "    for param in model.parameters():\n",
    "        param.requires_grad = True\n",
    "\n",
    "    # Evaluate the model\n",
    "    accuracy_target, accuracy_non_target, targets, preds = evaluate_model(\n",
    "        model, test_dataloder, target_class\n",
    "    )\n",
    "\n",
    "    # print(\"Unlearning procedure completed.\")\n",
    "    # print(f\"Accuracy on target class {target_class}: {accuracy_target}%\")\n",
    "    # print(f\"Accuracy on non-target classes: {accuracy_non_target}%\")\n",
    "    return accuracy_target, accuracy_non_target\n",
    "\n",
    "\n",
    "device = torch.device(\"cuda\" if torch.cuda.is_available() else \"cpu\")\n",
    "\n",
    "# model = RoutedCNN().to(device)\n",
    "# model.load_state_dict(torch.load(\"routed_cnn.pth\"))\n",
    "\n",
    "# dataset = load_dataset(\"cifar10\")\n",
    "\n",
    "\n",
    "# hyperparameters = {\n",
    "#     \"train_dataset_percentage\": [5, 25, 50, 100],\n",
    "#     \"num_epochs\": [1, 2, 3, 4, 5],\n",
    "#     \"learning_rate\": [0.01, 0.001, 0.0001],\n",
    "#     \"target_class\": [0, 1, 2, 3, 4, 5, 6, 7, 8, 9],\n",
    "# }\n",
    "\n",
    "\n",
    "test_loader = DataLoader(\n",
    "    dataset[\"test\"].with_format(\"torch\"),\n",
    "    batch_size=32,\n",
    "    shuffle=False,\n",
    "    collate_fn=collate_fn,\n",
    ")\n",
    "\n",
    "\n",
    "def unlearn(h_params):\n",
    "    model = RoutedCNN().to(device)\n",
    "    model.load_state_dict(torch.load(\"routed_cnn_100.pth\", weights_only=True))\n",
    "\n",
    "    train_loader = DataLoader(\n",
    "        dataset[\"train\"]\n",
    "        .shuffle()\n",
    "        .select(\n",
    "            range(\n",
    "                int(\n",
    "                    len(dataset[\"train\"]) * (h_params[\"train_dataset_percentage\"] / 100)\n",
    "                )\n",
    "            )\n",
    "        )\n",
    "        .with_format(\"torch\"),\n",
    "        batch_size=32,\n",
    "        shuffle=True,\n",
    "        collate_fn=collate_fn,\n",
    "    )\n",
    "\n",
    "    accuracy_target, accuracy_non_target = unlearning_procedure(\n",
    "        model,\n",
    "        train_loader,\n",
    "        test_loader,\n",
    "        h_params[\"target_class\"],\n",
    "        num_epochs=h_params[\"num_epochs\"],\n",
    "        learning_rate=h_params[\"learning_rate\"],\n",
    "    )\n",
    "\n",
    "    return accuracy_target, accuracy_non_target\n"
   ]
  },
  {
   "cell_type": "code",
   "execution_count": 32,
   "metadata": {},
   "outputs": [
    {
     "data": {
      "application/vnd.jupyter.widget-view+json": {
       "model_id": "cd9278207b7c46a1b69ed14e7ac8ea61",
       "version_major": 2,
       "version_minor": 0
      },
      "text/plain": [
       "  0%|          | 0/313 [00:00<?, ?it/s]"
      ]
     },
     "metadata": {},
     "output_type": "display_data"
    }
   ],
   "source": [
    "hyperparameters = {\n",
    "    \"train_dataset_percentage\": 25,\n",
    "    \"num_epochs\": 2,\n",
    "    \"learning_rate\": 0.001,\n",
    "    \"target_class\": 0,\n",
    "}\n",
    "\n",
    "accuracy_target, accuracy_non_target = unlearn(hyperparameters)"
   ]
  },
  {
   "cell_type": "code",
   "execution_count": 33,
   "metadata": {},
   "outputs": [
    {
     "name": "stdout",
     "output_type": "stream",
     "text": [
      "Accuracy on target class: 3.0\n",
      "Accuracy on non-target classes: 37.37894736842105\n"
     ]
    }
   ],
   "source": [
    "print(f\"Accuracy on target class: {accuracy_target}\")\n",
    "print(f\"Accuracy on non-target classes: {accuracy_non_target}\")"
   ]
  },
  {
   "cell_type": "code",
   "execution_count": 20,
   "metadata": {},
   "outputs": [
    {
     "data": {
      "application/vnd.jupyter.widget-view+json": {
       "model_id": "eac7ff9baeb64e439053347ee0e95b66",
       "version_major": 2,
       "version_minor": 0
      },
      "text/plain": [
       "Grid Search Progress:   0%|          | 0/60 [00:00<?, ?it/s]"
      ]
     },
     "metadata": {},
     "output_type": "display_data"
    },
    {
     "data": {
      "application/vnd.jupyter.widget-view+json": {
       "model_id": "8e6ca717353a411f8c823fc4fdc0169f",
       "version_major": 2,
       "version_minor": 0
      },
      "text/plain": [
       "  0%|          | 0/313 [00:00<?, ?it/s]"
      ]
     },
     "metadata": {},
     "output_type": "display_data"
    },
    {
     "data": {
      "application/vnd.jupyter.widget-view+json": {
       "model_id": "1f4f4fc9e6c443ed80e5d15ab9e3ec60",
       "version_major": 2,
       "version_minor": 0
      },
      "text/plain": [
       "  0%|          | 0/313 [00:00<?, ?it/s]"
      ]
     },
     "metadata": {},
     "output_type": "display_data"
    },
    {
     "data": {
      "application/vnd.jupyter.widget-view+json": {
       "model_id": "f59238449aa0451896a20b1f6ebe2208",
       "version_major": 2,
       "version_minor": 0
      },
      "text/plain": [
       "  0%|          | 0/313 [00:00<?, ?it/s]"
      ]
     },
     "metadata": {},
     "output_type": "display_data"
    },
    {
     "data": {
      "application/vnd.jupyter.widget-view+json": {
       "model_id": "f839869fd6fe40b0aefffbaa6553a488",
       "version_major": 2,
       "version_minor": 0
      },
      "text/plain": [
       "  0%|          | 0/313 [00:00<?, ?it/s]"
      ]
     },
     "metadata": {},
     "output_type": "display_data"
    },
    {
     "data": {
      "application/vnd.jupyter.widget-view+json": {
       "model_id": "32aea274a628471593e2bb6bc4ec21a2",
       "version_major": 2,
       "version_minor": 0
      },
      "text/plain": [
       "  0%|          | 0/313 [00:00<?, ?it/s]"
      ]
     },
     "metadata": {},
     "output_type": "display_data"
    },
    {
     "data": {
      "application/vnd.jupyter.widget-view+json": {
       "model_id": "e4614de6da7e40548b74e72a152bd8dc",
       "version_major": 2,
       "version_minor": 0
      },
      "text/plain": [
       "  0%|          | 0/313 [00:00<?, ?it/s]"
      ]
     },
     "metadata": {},
     "output_type": "display_data"
    },
    {
     "data": {
      "application/vnd.jupyter.widget-view+json": {
       "model_id": "a8fac0b7031a44309bfdc0920d7dfec6",
       "version_major": 2,
       "version_minor": 0
      },
      "text/plain": [
       "  0%|          | 0/313 [00:00<?, ?it/s]"
      ]
     },
     "metadata": {},
     "output_type": "display_data"
    },
    {
     "data": {
      "application/vnd.jupyter.widget-view+json": {
       "model_id": "fb992a264b0b4a5c9857f5fe2add0be6",
       "version_major": 2,
       "version_minor": 0
      },
      "text/plain": [
       "  0%|          | 0/313 [00:00<?, ?it/s]"
      ]
     },
     "metadata": {},
     "output_type": "display_data"
    },
    {
     "data": {
      "application/vnd.jupyter.widget-view+json": {
       "model_id": "49a484701a97433794bac18c97cea632",
       "version_major": 2,
       "version_minor": 0
      },
      "text/plain": [
       "  0%|          | 0/313 [00:00<?, ?it/s]"
      ]
     },
     "metadata": {},
     "output_type": "display_data"
    },
    {
     "data": {
      "application/vnd.jupyter.widget-view+json": {
       "model_id": "8344d1321f34467e92d33de4902d0208",
       "version_major": 2,
       "version_minor": 0
      },
      "text/plain": [
       "  0%|          | 0/313 [00:00<?, ?it/s]"
      ]
     },
     "metadata": {},
     "output_type": "display_data"
    },
    {
     "data": {
      "application/vnd.jupyter.widget-view+json": {
       "model_id": "60057bec43ee4fd0b248f63e11bae815",
       "version_major": 2,
       "version_minor": 0
      },
      "text/plain": [
       "  0%|          | 0/313 [00:00<?, ?it/s]"
      ]
     },
     "metadata": {},
     "output_type": "display_data"
    },
    {
     "data": {
      "application/vnd.jupyter.widget-view+json": {
       "model_id": "de709abed39c436ea5a3d036b46dc156",
       "version_major": 2,
       "version_minor": 0
      },
      "text/plain": [
       "  0%|          | 0/313 [00:00<?, ?it/s]"
      ]
     },
     "metadata": {},
     "output_type": "display_data"
    },
    {
     "data": {
      "application/vnd.jupyter.widget-view+json": {
       "model_id": "fc2d7626666e4c19baf4c0670ef80870",
       "version_major": 2,
       "version_minor": 0
      },
      "text/plain": [
       "  0%|          | 0/313 [00:00<?, ?it/s]"
      ]
     },
     "metadata": {},
     "output_type": "display_data"
    },
    {
     "data": {
      "application/vnd.jupyter.widget-view+json": {
       "model_id": "cf2474f1639e4dfe9695827639d967ad",
       "version_major": 2,
       "version_minor": 0
      },
      "text/plain": [
       "  0%|          | 0/313 [00:00<?, ?it/s]"
      ]
     },
     "metadata": {},
     "output_type": "display_data"
    },
    {
     "data": {
      "application/vnd.jupyter.widget-view+json": {
       "model_id": "19224227a9814b7f8bc2b3c3400057ba",
       "version_major": 2,
       "version_minor": 0
      },
      "text/plain": [
       "  0%|          | 0/313 [00:00<?, ?it/s]"
      ]
     },
     "metadata": {},
     "output_type": "display_data"
    },
    {
     "data": {
      "application/vnd.jupyter.widget-view+json": {
       "model_id": "525f3840bdb84100a078317b93101f9b",
       "version_major": 2,
       "version_minor": 0
      },
      "text/plain": [
       "  0%|          | 0/313 [00:00<?, ?it/s]"
      ]
     },
     "metadata": {},
     "output_type": "display_data"
    },
    {
     "data": {
      "application/vnd.jupyter.widget-view+json": {
       "model_id": "679b03c8637947a2b4d8fa3b73e86c33",
       "version_major": 2,
       "version_minor": 0
      },
      "text/plain": [
       "  0%|          | 0/313 [00:00<?, ?it/s]"
      ]
     },
     "metadata": {},
     "output_type": "display_data"
    },
    {
     "data": {
      "application/vnd.jupyter.widget-view+json": {
       "model_id": "1ebd0060efba4eba8823b1c16a6014ca",
       "version_major": 2,
       "version_minor": 0
      },
      "text/plain": [
       "  0%|          | 0/313 [00:00<?, ?it/s]"
      ]
     },
     "metadata": {},
     "output_type": "display_data"
    },
    {
     "data": {
      "application/vnd.jupyter.widget-view+json": {
       "model_id": "48554b7ed2e44328bb06431895bf1698",
       "version_major": 2,
       "version_minor": 0
      },
      "text/plain": [
       "  0%|          | 0/313 [00:00<?, ?it/s]"
      ]
     },
     "metadata": {},
     "output_type": "display_data"
    },
    {
     "data": {
      "application/vnd.jupyter.widget-view+json": {
       "model_id": "bd0deeb90caf43ba9138f995a54bf40b",
       "version_major": 2,
       "version_minor": 0
      },
      "text/plain": [
       "  0%|          | 0/313 [00:00<?, ?it/s]"
      ]
     },
     "metadata": {},
     "output_type": "display_data"
    },
    {
     "data": {
      "application/vnd.jupyter.widget-view+json": {
       "model_id": "040d2e38f5174e1781c4115fdc1dedb6",
       "version_major": 2,
       "version_minor": 0
      },
      "text/plain": [
       "  0%|          | 0/313 [00:00<?, ?it/s]"
      ]
     },
     "metadata": {},
     "output_type": "display_data"
    },
    {
     "data": {
      "application/vnd.jupyter.widget-view+json": {
       "model_id": "5be41c668cf148548e6c199f062235c0",
       "version_major": 2,
       "version_minor": 0
      },
      "text/plain": [
       "  0%|          | 0/313 [00:00<?, ?it/s]"
      ]
     },
     "metadata": {},
     "output_type": "display_data"
    },
    {
     "data": {
      "application/vnd.jupyter.widget-view+json": {
       "model_id": "15b497c8641742c799218e898f668d03",
       "version_major": 2,
       "version_minor": 0
      },
      "text/plain": [
       "  0%|          | 0/313 [00:00<?, ?it/s]"
      ]
     },
     "metadata": {},
     "output_type": "display_data"
    },
    {
     "data": {
      "application/vnd.jupyter.widget-view+json": {
       "model_id": "846c90bd6fae46dd8c9a69cc36e31847",
       "version_major": 2,
       "version_minor": 0
      },
      "text/plain": [
       "  0%|          | 0/313 [00:00<?, ?it/s]"
      ]
     },
     "metadata": {},
     "output_type": "display_data"
    },
    {
     "data": {
      "application/vnd.jupyter.widget-view+json": {
       "model_id": "ef9bff3527064711a586ce714cc5733a",
       "version_major": 2,
       "version_minor": 0
      },
      "text/plain": [
       "  0%|          | 0/313 [00:00<?, ?it/s]"
      ]
     },
     "metadata": {},
     "output_type": "display_data"
    },
    {
     "data": {
      "application/vnd.jupyter.widget-view+json": {
       "model_id": "e7b8c9e1f8db477a9fb5422ba0e40966",
       "version_major": 2,
       "version_minor": 0
      },
      "text/plain": [
       "  0%|          | 0/313 [00:00<?, ?it/s]"
      ]
     },
     "metadata": {},
     "output_type": "display_data"
    },
    {
     "data": {
      "application/vnd.jupyter.widget-view+json": {
       "model_id": "a571d82a94cc45c4bce99eab2292992f",
       "version_major": 2,
       "version_minor": 0
      },
      "text/plain": [
       "  0%|          | 0/313 [00:00<?, ?it/s]"
      ]
     },
     "metadata": {},
     "output_type": "display_data"
    },
    {
     "data": {
      "application/vnd.jupyter.widget-view+json": {
       "model_id": "92f8df53396f406e9ae48582d877ba3c",
       "version_major": 2,
       "version_minor": 0
      },
      "text/plain": [
       "  0%|          | 0/313 [00:00<?, ?it/s]"
      ]
     },
     "metadata": {},
     "output_type": "display_data"
    },
    {
     "data": {
      "application/vnd.jupyter.widget-view+json": {
       "model_id": "133599df9de54d70a28387749cabc923",
       "version_major": 2,
       "version_minor": 0
      },
      "text/plain": [
       "  0%|          | 0/313 [00:00<?, ?it/s]"
      ]
     },
     "metadata": {},
     "output_type": "display_data"
    },
    {
     "data": {
      "application/vnd.jupyter.widget-view+json": {
       "model_id": "59ef524202a64b81bfd76a363e7a8865",
       "version_major": 2,
       "version_minor": 0
      },
      "text/plain": [
       "  0%|          | 0/313 [00:00<?, ?it/s]"
      ]
     },
     "metadata": {},
     "output_type": "display_data"
    },
    {
     "data": {
      "application/vnd.jupyter.widget-view+json": {
       "model_id": "a514de3e59184855bdaacfa2a89f5d89",
       "version_major": 2,
       "version_minor": 0
      },
      "text/plain": [
       "  0%|          | 0/313 [00:00<?, ?it/s]"
      ]
     },
     "metadata": {},
     "output_type": "display_data"
    },
    {
     "data": {
      "application/vnd.jupyter.widget-view+json": {
       "model_id": "b21e64fdbaaa4833bb4a7d54694a55b5",
       "version_major": 2,
       "version_minor": 0
      },
      "text/plain": [
       "  0%|          | 0/313 [00:00<?, ?it/s]"
      ]
     },
     "metadata": {},
     "output_type": "display_data"
    },
    {
     "data": {
      "application/vnd.jupyter.widget-view+json": {
       "model_id": "ae9dc5cc87a54fa3a16b3a15177f787f",
       "version_major": 2,
       "version_minor": 0
      },
      "text/plain": [
       "  0%|          | 0/313 [00:00<?, ?it/s]"
      ]
     },
     "metadata": {},
     "output_type": "display_data"
    },
    {
     "data": {
      "application/vnd.jupyter.widget-view+json": {
       "model_id": "0b93eb5946b24c1fa2a853e252319210",
       "version_major": 2,
       "version_minor": 0
      },
      "text/plain": [
       "  0%|          | 0/313 [00:00<?, ?it/s]"
      ]
     },
     "metadata": {},
     "output_type": "display_data"
    },
    {
     "data": {
      "application/vnd.jupyter.widget-view+json": {
       "model_id": "62e54d5261254fc7976fd7746b197d2c",
       "version_major": 2,
       "version_minor": 0
      },
      "text/plain": [
       "  0%|          | 0/313 [00:00<?, ?it/s]"
      ]
     },
     "metadata": {},
     "output_type": "display_data"
    },
    {
     "data": {
      "application/vnd.jupyter.widget-view+json": {
       "model_id": "5fb30dcbe28441198af7cb47e62225ff",
       "version_major": 2,
       "version_minor": 0
      },
      "text/plain": [
       "  0%|          | 0/313 [00:00<?, ?it/s]"
      ]
     },
     "metadata": {},
     "output_type": "display_data"
    },
    {
     "data": {
      "application/vnd.jupyter.widget-view+json": {
       "model_id": "42c253dbf3394f24a60bb14bf859cfb7",
       "version_major": 2,
       "version_minor": 0
      },
      "text/plain": [
       "  0%|          | 0/313 [00:00<?, ?it/s]"
      ]
     },
     "metadata": {},
     "output_type": "display_data"
    },
    {
     "data": {
      "application/vnd.jupyter.widget-view+json": {
       "model_id": "a5cae1e3d51e48458e2cc88e01be6901",
       "version_major": 2,
       "version_minor": 0
      },
      "text/plain": [
       "  0%|          | 0/313 [00:00<?, ?it/s]"
      ]
     },
     "metadata": {},
     "output_type": "display_data"
    },
    {
     "data": {
      "application/vnd.jupyter.widget-view+json": {
       "model_id": "c004a7f5dece40b7b71b9b9c0b06b8d1",
       "version_major": 2,
       "version_minor": 0
      },
      "text/plain": [
       "  0%|          | 0/313 [00:00<?, ?it/s]"
      ]
     },
     "metadata": {},
     "output_type": "display_data"
    },
    {
     "data": {
      "application/vnd.jupyter.widget-view+json": {
       "model_id": "9afe3af257934609849506bf18c47fdf",
       "version_major": 2,
       "version_minor": 0
      },
      "text/plain": [
       "  0%|          | 0/313 [00:00<?, ?it/s]"
      ]
     },
     "metadata": {},
     "output_type": "display_data"
    },
    {
     "data": {
      "application/vnd.jupyter.widget-view+json": {
       "model_id": "82945b7c03134955bf16669c8c73b52e",
       "version_major": 2,
       "version_minor": 0
      },
      "text/plain": [
       "  0%|          | 0/313 [00:00<?, ?it/s]"
      ]
     },
     "metadata": {},
     "output_type": "display_data"
    },
    {
     "data": {
      "application/vnd.jupyter.widget-view+json": {
       "model_id": "b2111cf0a0ba42af97712190e774300e",
       "version_major": 2,
       "version_minor": 0
      },
      "text/plain": [
       "  0%|          | 0/313 [00:00<?, ?it/s]"
      ]
     },
     "metadata": {},
     "output_type": "display_data"
    },
    {
     "data": {
      "application/vnd.jupyter.widget-view+json": {
       "model_id": "8d3d2a4ea6554703862328309a1fc9ba",
       "version_major": 2,
       "version_minor": 0
      },
      "text/plain": [
       "  0%|          | 0/313 [00:00<?, ?it/s]"
      ]
     },
     "metadata": {},
     "output_type": "display_data"
    },
    {
     "data": {
      "application/vnd.jupyter.widget-view+json": {
       "model_id": "6856c0ca6e3641fe892a3107d537aea7",
       "version_major": 2,
       "version_minor": 0
      },
      "text/plain": [
       "  0%|          | 0/313 [00:00<?, ?it/s]"
      ]
     },
     "metadata": {},
     "output_type": "display_data"
    },
    {
     "data": {
      "application/vnd.jupyter.widget-view+json": {
       "model_id": "8d2dcd1063c241a69a1cc31a3f4bd727",
       "version_major": 2,
       "version_minor": 0
      },
      "text/plain": [
       "  0%|          | 0/313 [00:00<?, ?it/s]"
      ]
     },
     "metadata": {},
     "output_type": "display_data"
    },
    {
     "data": {
      "application/vnd.jupyter.widget-view+json": {
       "model_id": "7afd92dcacfb4d97ad47df3198405fba",
       "version_major": 2,
       "version_minor": 0
      },
      "text/plain": [
       "  0%|          | 0/313 [00:00<?, ?it/s]"
      ]
     },
     "metadata": {},
     "output_type": "display_data"
    },
    {
     "data": {
      "application/vnd.jupyter.widget-view+json": {
       "model_id": "349a4022867f4c19bf194e04cc4ab155",
       "version_major": 2,
       "version_minor": 0
      },
      "text/plain": [
       "  0%|          | 0/313 [00:00<?, ?it/s]"
      ]
     },
     "metadata": {},
     "output_type": "display_data"
    },
    {
     "data": {
      "application/vnd.jupyter.widget-view+json": {
       "model_id": "37b4e2d6e19644e58876ad6408235156",
       "version_major": 2,
       "version_minor": 0
      },
      "text/plain": [
       "  0%|          | 0/313 [00:00<?, ?it/s]"
      ]
     },
     "metadata": {},
     "output_type": "display_data"
    },
    {
     "data": {
      "application/vnd.jupyter.widget-view+json": {
       "model_id": "0bad5ac743f541e58768d4b693c0e80a",
       "version_major": 2,
       "version_minor": 0
      },
      "text/plain": [
       "  0%|          | 0/313 [00:00<?, ?it/s]"
      ]
     },
     "metadata": {},
     "output_type": "display_data"
    },
    {
     "data": {
      "application/vnd.jupyter.widget-view+json": {
       "model_id": "fa8b01f58f0d4a80b261d9c9e51bed05",
       "version_major": 2,
       "version_minor": 0
      },
      "text/plain": [
       "  0%|          | 0/313 [00:00<?, ?it/s]"
      ]
     },
     "metadata": {},
     "output_type": "display_data"
    },
    {
     "data": {
      "application/vnd.jupyter.widget-view+json": {
       "model_id": "720f65e84a2a4bbcba3e94f137b83ae6",
       "version_major": 2,
       "version_minor": 0
      },
      "text/plain": [
       "  0%|          | 0/313 [00:00<?, ?it/s]"
      ]
     },
     "metadata": {},
     "output_type": "display_data"
    },
    {
     "data": {
      "application/vnd.jupyter.widget-view+json": {
       "model_id": "ae0b8b14b7a24be3b99536edfd424213",
       "version_major": 2,
       "version_minor": 0
      },
      "text/plain": [
       "  0%|          | 0/313 [00:00<?, ?it/s]"
      ]
     },
     "metadata": {},
     "output_type": "display_data"
    },
    {
     "data": {
      "application/vnd.jupyter.widget-view+json": {
       "model_id": "a0eda3e9d3b04099a866248a8a513ceb",
       "version_major": 2,
       "version_minor": 0
      },
      "text/plain": [
       "  0%|          | 0/313 [00:00<?, ?it/s]"
      ]
     },
     "metadata": {},
     "output_type": "display_data"
    },
    {
     "data": {
      "application/vnd.jupyter.widget-view+json": {
       "model_id": "770a4dea810f4bd59288a90ec793966f",
       "version_major": 2,
       "version_minor": 0
      },
      "text/plain": [
       "  0%|          | 0/313 [00:00<?, ?it/s]"
      ]
     },
     "metadata": {},
     "output_type": "display_data"
    },
    {
     "data": {
      "application/vnd.jupyter.widget-view+json": {
       "model_id": "e700e1aa376a466cb6087ae305e93946",
       "version_major": 2,
       "version_minor": 0
      },
      "text/plain": [
       "  0%|          | 0/313 [00:00<?, ?it/s]"
      ]
     },
     "metadata": {},
     "output_type": "display_data"
    },
    {
     "data": {
      "application/vnd.jupyter.widget-view+json": {
       "model_id": "58ddd37096064869bcef6fab2abccdd3",
       "version_major": 2,
       "version_minor": 0
      },
      "text/plain": [
       "  0%|          | 0/313 [00:00<?, ?it/s]"
      ]
     },
     "metadata": {},
     "output_type": "display_data"
    },
    {
     "data": {
      "application/vnd.jupyter.widget-view+json": {
       "model_id": "38686e325c5f46318e58795524fecb04",
       "version_major": 2,
       "version_minor": 0
      },
      "text/plain": [
       "  0%|          | 0/313 [00:00<?, ?it/s]"
      ]
     },
     "metadata": {},
     "output_type": "display_data"
    },
    {
     "data": {
      "application/vnd.jupyter.widget-view+json": {
       "model_id": "2010508d5d12481fb6296948e1a86479",
       "version_major": 2,
       "version_minor": 0
      },
      "text/plain": [
       "  0%|          | 0/313 [00:00<?, ?it/s]"
      ]
     },
     "metadata": {},
     "output_type": "display_data"
    },
    {
     "data": {
      "application/vnd.jupyter.widget-view+json": {
       "model_id": "ba5fd856842f438d8ed505fae11e6c30",
       "version_major": 2,
       "version_minor": 0
      },
      "text/plain": [
       "  0%|          | 0/313 [00:00<?, ?it/s]"
      ]
     },
     "metadata": {},
     "output_type": "display_data"
    },
    {
     "data": {
      "application/vnd.jupyter.widget-view+json": {
       "model_id": "ba38b7830ae2457aa8f0f71425c714fd",
       "version_major": 2,
       "version_minor": 0
      },
      "text/plain": [
       "  0%|          | 0/313 [00:00<?, ?it/s]"
      ]
     },
     "metadata": {},
     "output_type": "display_data"
    },
    {
     "name": "stdout",
     "output_type": "stream",
     "text": [
      "Best hyperparameters: {'train_dataset_percentage': 100, 'num_epochs': 2, 'learning_rate': 0.001, 'target_class': 0}\n",
      "Best target accuracy: 0.2\n",
      "Corresponding non-target accuracy: 53.25555555555555\n"
     ]
    }
   ],
   "source": [
    "import itertools\n",
    "from tqdm.notebook import tqdm\n",
    "\n",
    "hyperparameters = {\n",
    "    \"train_dataset_percentage\": [5, 25, 50, 100],\n",
    "    \"num_epochs\": [1, 2, 3, 4, 5],\n",
    "    \"learning_rate\": [0.01, 0.001, 0.0001],\n",
    "    \"target_class\": [0],  # , 1, 2, 3, 4, 5, 6, 7, 8, 9],\n",
    "}\n",
    "\n",
    "# Generate all combinations of hyperparameters\n",
    "param_combinations = list(itertools.product(*hyperparameters.values()))\n",
    "\n",
    "# Create a list to store results\n",
    "results = []\n",
    "\n",
    "# Iterate over all combinations\n",
    "for params in tqdm(param_combinations, desc=\"Grid Search Progress\"):\n",
    "    # Create a dictionary of hyperparameters for this run\n",
    "    h_params = dict(zip(hyperparameters.keys(), params))\n",
    "\n",
    "    # Run the unlearn function with the current set of hyperparameters\n",
    "    accuracy_target, accuracy_non_target = unlearn(h_params)\n",
    "\n",
    "    # Store the results along with the hyperparameters\n",
    "    results.append(\n",
    "        {\n",
    "            \"hyperparameters\": h_params,\n",
    "            \"accuracy_target\": accuracy_target,\n",
    "            \"accuracy_non_target\": accuracy_non_target,\n",
    "        }\n",
    "    )\n",
    "\n",
    "# After the grid search is complete, you can analyze the results\n",
    "best_result = max(\n",
    "    results, key=lambda x: ((100 - x[\"accuracy_target\"]) + x[\"accuracy_non_target\"]) / 2\n",
    ")\n",
    "print(\"Best hyperparameters:\", best_result[\"hyperparameters\"])\n",
    "print(\"Best target accuracy:\", best_result[\"accuracy_target\"])\n",
    "print(\"Corresponding non-target accuracy:\", best_result[\"accuracy_non_target\"])\n",
    "\n",
    "# You might want to save all results for further analysis\n",
    "import json\n",
    "\n",
    "with open(\"grid_search_results.json\", \"w\") as f:\n",
    "    json.dump(results, f)"
   ]
  },
  {
   "cell_type": "code",
   "execution_count": 28,
   "metadata": {},
   "outputs": [
    {
     "data": {
      "text/plain": [
       "<matplotlib.collections.PathCollection at 0x7f2cf18282d0>"
      ]
     },
     "execution_count": 28,
     "metadata": {},
     "output_type": "execute_result"
    },
    {
     "data": {
      "image/png": "[encoded data removed]",
      "text/plain": [
       "<Figure size 1000x600 with 1 Axes>"
      ]
     },
     "metadata": {},
     "output_type": "display_data"
    }
   ],
   "source": [
    "import matplotlib.pyplot as plt\n",
    "\n",
    "with open(\"grid_search_results.json\", \"r\") as f:\n",
    "    results = json.load(f)\n",
    "\n",
    "    y = [\n",
    "        ((100 - result[\"accuracy_target\"]) + result[\"accuracy_non_target\"]) / 2\n",
    "        for result in results\n",
    "    ]\n",
    "    x = [result[\"hyperparameters\"][\"train_dataset_percentage\"] for result in results]\n",
    "\n",
    "\n",
    "# Plot the results as a scatter plot\n",
    "plt.figure(figsize=(10, 6))\n",
    "plt.scatter(x, y, c=\"blue\", alpha=0.6)"
   ]
  },
  {
   "cell_type": "code",
   "execution_count": 29,
   "metadata": {},
   "outputs": [
    {
     "data": {
      "text/plain": [
       "<matplotlib.collections.PathCollection at 0x7f2cf1891bd0>"
      ]
     },
     "execution_count": 29,
     "metadata": {},
     "output_type": "execute_result"
    },
    {
     "data": {
      "image/png": "[encoded data removed]",
      "text/plain": [
       "<Figure size 1000x600 with 1 Axes>"
      ]
     },
     "metadata": {},
     "output_type": "display_data"
    }
   ],
   "source": [
    "import matplotlib.pyplot as plt\n",
    "\n",
    "with open(\"grid_search_results.json\", \"r\") as f:\n",
    "    results = json.load(f)\n",
    "\n",
    "    y = [\n",
    "        ((100 - result[\"accuracy_target\"]) + result[\"accuracy_non_target\"]) / 2\n",
    "        for result in results\n",
    "    ]\n",
    "    x = [result[\"hyperparameters\"][\"num_epochs\"] for result in results]\n",
    "\n",
    "\n",
    "# Plot the results as a scatter plot\n",
    "plt.figure(figsize=(10, 6))\n",
    "plt.scatter(x, y, c=\"blue\", alpha=0.6)"
   ]
  },
  {
   "cell_type": "code",
   "execution_count": 30,
   "metadata": {},
   "outputs": [
    {
     "data": {
      "text/plain": [
       "<matplotlib.collections.PathCollection at 0x7f2cf1739450>"
      ]
     },
     "execution_count": 30,
     "metadata": {},
     "output_type": "execute_result"
    },
    {
     "data": {
      "image/png": "[encoded data removed]",
      "text/plain": [
       "<Figure size 1000x600 with 1 Axes>"
      ]
     },
     "metadata": {},
     "output_type": "display_data"
    }
   ],
   "source": [
    "import matplotlib.pyplot as plt\n",
    "\n",
    "with open(\"grid_search_results.json\", \"r\") as f:\n",
    "    results = json.load(f)\n",
    "\n",
    "    y = [\n",
    "        ((100 - result[\"accuracy_target\"]) + result[\"accuracy_non_target\"]) / 2\n",
    "        for result in results\n",
    "    ]\n",
    "    x = [result[\"hyperparameters\"][\"learning_rate\"] for result in results]\n",
    "\n",
    "\n",
    "# Plot the results as a scatter plot\n",
    "plt.figure(figsize=(10, 6))\n",
    "plt.scatter(x, y, c=\"blue\", alpha=0.6)"
   ]
  },
  {
   "cell_type": "code",
   "execution_count": 38,
   "metadata": {},
   "outputs": [
    {
     "ename": "ValueError",
     "evalue": "Index contains duplicate entries, cannot reshape",
     "output_type": "error",
     "traceback": [
      "\u001b[0;31m---------------------------------------------------------------------------\u001b[0m",
      "\u001b[0;31mValueError\u001b[0m                                Traceback (most recent call last)",
      "Cell \u001b[0;32mIn[38], line 23\u001b[0m\n\u001b[1;32m     18\u001b[0m df[\u001b[38;5;124m\"\u001b[39m\u001b[38;5;124mbest_score\u001b[39m\u001b[38;5;124m\"\u001b[39m] \u001b[38;5;241m=\u001b[39m df\u001b[38;5;241m.\u001b[39mapply(\n\u001b[1;32m     19\u001b[0m     \u001b[38;5;28;01mlambda\u001b[39;00m x: ((\u001b[38;5;241m100\u001b[39m \u001b[38;5;241m-\u001b[39m x[\u001b[38;5;124m\"\u001b[39m\u001b[38;5;124maccuracy_target\u001b[39m\u001b[38;5;124m\"\u001b[39m]) \u001b[38;5;241m+\u001b[39m x[\u001b[38;5;124m\"\u001b[39m\u001b[38;5;124maccuracy_non_target\u001b[39m\u001b[38;5;124m\"\u001b[39m]) \u001b[38;5;241m/\u001b[39m \u001b[38;5;241m2\u001b[39m, axis\u001b[38;5;241m=\u001b[39m\u001b[38;5;241m1\u001b[39m\n\u001b[1;32m     20\u001b[0m )\n\u001b[1;32m     22\u001b[0m \u001b[38;5;66;03m# Create a pivot table for the heatmap\u001b[39;00m\n\u001b[0;32m---> 23\u001b[0m pivot_table \u001b[38;5;241m=\u001b[39m \u001b[43mdf\u001b[49m\u001b[38;5;241;43m.\u001b[39;49m\u001b[43mpivot\u001b[49m\u001b[43m(\u001b[49m\u001b[43mindex\u001b[49m\u001b[38;5;241;43m=\u001b[39;49m\u001b[38;5;124;43m\"\u001b[39;49m\u001b[38;5;124;43mnum_epochs\u001b[39;49m\u001b[38;5;124;43m\"\u001b[39;49m\u001b[43m,\u001b[49m\u001b[43m \u001b[49m\u001b[43mcolumns\u001b[49m\u001b[38;5;241;43m=\u001b[39;49m\u001b[38;5;124;43m\"\u001b[39;49m\u001b[38;5;124;43mlearning_rate\u001b[39;49m\u001b[38;5;124;43m\"\u001b[39;49m\u001b[43m,\u001b[49m\u001b[43m \u001b[49m\u001b[43mvalues\u001b[49m\u001b[38;5;241;43m=\u001b[39;49m\u001b[38;5;124;43m\"\u001b[39;49m\u001b[38;5;124;43mbest_score\u001b[39;49m\u001b[38;5;124;43m\"\u001b[39;49m\u001b[43m)\u001b[49m\n\u001b[1;32m     25\u001b[0m \u001b[38;5;66;03m# Create the heatmap\u001b[39;00m\n\u001b[1;32m     26\u001b[0m plt\u001b[38;5;241m.\u001b[39mfigure(figsize\u001b[38;5;241m=\u001b[39m(\u001b[38;5;241m12\u001b[39m, \u001b[38;5;241m8\u001b[39m))\n",
      "File \u001b[0;32m~/Code/machine-unlearning/.venv/lib64/python3.11/site-packages/pandas/core/frame.py:9339\u001b[0m, in \u001b[0;36mDataFrame.pivot\u001b[0;34m(self, columns, index, values)\u001b[0m\n\u001b[1;32m   9332\u001b[0m \u001b[38;5;129m@Substitution\u001b[39m(\u001b[38;5;124m\"\u001b[39m\u001b[38;5;124m\"\u001b[39m)\n\u001b[1;32m   9333\u001b[0m \u001b[38;5;129m@Appender\u001b[39m(_shared_docs[\u001b[38;5;124m\"\u001b[39m\u001b[38;5;124mpivot\u001b[39m\u001b[38;5;124m\"\u001b[39m])\n\u001b[1;32m   9334\u001b[0m \u001b[38;5;28;01mdef\u001b[39;00m \u001b[38;5;21mpivot\u001b[39m(\n\u001b[1;32m   9335\u001b[0m     \u001b[38;5;28mself\u001b[39m, \u001b[38;5;241m*\u001b[39m, columns, index\u001b[38;5;241m=\u001b[39mlib\u001b[38;5;241m.\u001b[39mno_default, values\u001b[38;5;241m=\u001b[39mlib\u001b[38;5;241m.\u001b[39mno_default\n\u001b[1;32m   9336\u001b[0m ) \u001b[38;5;241m-\u001b[39m\u001b[38;5;241m>\u001b[39m DataFrame:\n\u001b[1;32m   9337\u001b[0m     \u001b[38;5;28;01mfrom\u001b[39;00m \u001b[38;5;21;01mpandas\u001b[39;00m\u001b[38;5;21;01m.\u001b[39;00m\u001b[38;5;21;01mcore\u001b[39;00m\u001b[38;5;21;01m.\u001b[39;00m\u001b[38;5;21;01mreshape\u001b[39;00m\u001b[38;5;21;01m.\u001b[39;00m\u001b[38;5;21;01mpivot\u001b[39;00m \u001b[38;5;28;01mimport\u001b[39;00m pivot\n\u001b[0;32m-> 9339\u001b[0m     \u001b[38;5;28;01mreturn\u001b[39;00m \u001b[43mpivot\u001b[49m\u001b[43m(\u001b[49m\u001b[38;5;28;43mself\u001b[39;49m\u001b[43m,\u001b[49m\u001b[43m \u001b[49m\u001b[43mindex\u001b[49m\u001b[38;5;241;43m=\u001b[39;49m\u001b[43mindex\u001b[49m\u001b[43m,\u001b[49m\u001b[43m \u001b[49m\u001b[43mcolumns\u001b[49m\u001b[38;5;241;43m=\u001b[39;49m\u001b[43mcolumns\u001b[49m\u001b[43m,\u001b[49m\u001b[43m \u001b[49m\u001b[43mvalues\u001b[49m\u001b[38;5;241;43m=\u001b[39;49m\u001b[43mvalues\u001b[49m\u001b[43m)\u001b[49m\n",
      "File \u001b[0;32m~/Code/machine-unlearning/.venv/lib64/python3.11/site-packages/pandas/core/reshape/pivot.py:570\u001b[0m, in \u001b[0;36mpivot\u001b[0;34m(data, columns, index, values)\u001b[0m\n\u001b[1;32m    566\u001b[0m         indexed \u001b[38;5;241m=\u001b[39m data\u001b[38;5;241m.\u001b[39m_constructor_sliced(data[values]\u001b[38;5;241m.\u001b[39m_values, index\u001b[38;5;241m=\u001b[39mmultiindex)\n\u001b[1;32m    567\u001b[0m \u001b[38;5;66;03m# error: Argument 1 to \"unstack\" of \"DataFrame\" has incompatible type \"Union\u001b[39;00m\n\u001b[1;32m    568\u001b[0m \u001b[38;5;66;03m# [List[Any], ExtensionArray, ndarray[Any, Any], Index, Series]\"; expected\u001b[39;00m\n\u001b[1;32m    569\u001b[0m \u001b[38;5;66;03m# \"Hashable\"\u001b[39;00m\n\u001b[0;32m--> 570\u001b[0m result \u001b[38;5;241m=\u001b[39m \u001b[43mindexed\u001b[49m\u001b[38;5;241;43m.\u001b[39;49m\u001b[43munstack\u001b[49m\u001b[43m(\u001b[49m\u001b[43mcolumns_listlike\u001b[49m\u001b[43m)\u001b[49m  \u001b[38;5;66;03m# type: ignore[arg-type]\u001b[39;00m\n\u001b[1;32m    571\u001b[0m result\u001b[38;5;241m.\u001b[39mindex\u001b[38;5;241m.\u001b[39mnames \u001b[38;5;241m=\u001b[39m [\n\u001b[1;32m    572\u001b[0m     name \u001b[38;5;28;01mif\u001b[39;00m name \u001b[38;5;129;01mis\u001b[39;00m \u001b[38;5;129;01mnot\u001b[39;00m lib\u001b[38;5;241m.\u001b[39mno_default \u001b[38;5;28;01melse\u001b[39;00m \u001b[38;5;28;01mNone\u001b[39;00m \u001b[38;5;28;01mfor\u001b[39;00m name \u001b[38;5;129;01min\u001b[39;00m result\u001b[38;5;241m.\u001b[39mindex\u001b[38;5;241m.\u001b[39mnames\n\u001b[1;32m    573\u001b[0m ]\n\u001b[1;32m    575\u001b[0m \u001b[38;5;28;01mreturn\u001b[39;00m result\n",
      "File \u001b[0;32m~/Code/machine-unlearning/.venv/lib64/python3.11/site-packages/pandas/core/series.py:4615\u001b[0m, in \u001b[0;36mSeries.unstack\u001b[0;34m(self, level, fill_value, sort)\u001b[0m\n\u001b[1;32m   4570\u001b[0m \u001b[38;5;250m\u001b[39m\u001b[38;5;124;03m\"\"\"\u001b[39;00m\n\u001b[1;32m   4571\u001b[0m \u001b[38;5;124;03mUnstack, also known as pivot, Series with MultiIndex to produce DataFrame.\u001b[39;00m\n\u001b[1;32m   4572\u001b[0m \n\u001b[0;32m   (...)\u001b[0m\n\u001b[1;32m   4611\u001b[0m \u001b[38;5;124;03mb    2    4\u001b[39;00m\n\u001b[1;32m   4612\u001b[0m \u001b[38;5;124;03m\"\"\"\u001b[39;00m\n\u001b[1;32m   4613\u001b[0m \u001b[38;5;28;01mfrom\u001b[39;00m \u001b[38;5;21;01mpandas\u001b[39;00m\u001b[38;5;21;01m.\u001b[39;00m\u001b[38;5;21;01mcore\u001b[39;00m\u001b[38;5;21;01m.\u001b[39;00m\u001b[38;5;21;01mreshape\u001b[39;00m\u001b[38;5;21;01m.\u001b[39;00m\u001b[38;5;21;01mreshape\u001b[39;00m \u001b[38;5;28;01mimport\u001b[39;00m unstack\n\u001b[0;32m-> 4615\u001b[0m \u001b[38;5;28;01mreturn\u001b[39;00m \u001b[43munstack\u001b[49m\u001b[43m(\u001b[49m\u001b[38;5;28;43mself\u001b[39;49m\u001b[43m,\u001b[49m\u001b[43m \u001b[49m\u001b[43mlevel\u001b[49m\u001b[43m,\u001b[49m\u001b[43m \u001b[49m\u001b[43mfill_value\u001b[49m\u001b[43m,\u001b[49m\u001b[43m \u001b[49m\u001b[43msort\u001b[49m\u001b[43m)\u001b[49m\n",
      "File \u001b[0;32m~/Code/machine-unlearning/.venv/lib64/python3.11/site-packages/pandas/core/reshape/reshape.py:517\u001b[0m, in \u001b[0;36munstack\u001b[0;34m(obj, level, fill_value, sort)\u001b[0m\n\u001b[1;32m    515\u001b[0m \u001b[38;5;28;01mif\u001b[39;00m is_1d_only_ea_dtype(obj\u001b[38;5;241m.\u001b[39mdtype):\n\u001b[1;32m    516\u001b[0m     \u001b[38;5;28;01mreturn\u001b[39;00m _unstack_extension_series(obj, level, fill_value, sort\u001b[38;5;241m=\u001b[39msort)\n\u001b[0;32m--> 517\u001b[0m unstacker \u001b[38;5;241m=\u001b[39m \u001b[43m_Unstacker\u001b[49m\u001b[43m(\u001b[49m\n\u001b[1;32m    518\u001b[0m \u001b[43m    \u001b[49m\u001b[43mobj\u001b[49m\u001b[38;5;241;43m.\u001b[39;49m\u001b[43mindex\u001b[49m\u001b[43m,\u001b[49m\u001b[43m \u001b[49m\u001b[43mlevel\u001b[49m\u001b[38;5;241;43m=\u001b[39;49m\u001b[43mlevel\u001b[49m\u001b[43m,\u001b[49m\u001b[43m \u001b[49m\u001b[43mconstructor\u001b[49m\u001b[38;5;241;43m=\u001b[39;49m\u001b[43mobj\u001b[49m\u001b[38;5;241;43m.\u001b[39;49m\u001b[43m_constructor_expanddim\u001b[49m\u001b[43m,\u001b[49m\u001b[43m \u001b[49m\u001b[43msort\u001b[49m\u001b[38;5;241;43m=\u001b[39;49m\u001b[43msort\u001b[49m\n\u001b[1;32m    519\u001b[0m \u001b[43m\u001b[49m\u001b[43m)\u001b[49m\n\u001b[1;32m    520\u001b[0m \u001b[38;5;28;01mreturn\u001b[39;00m unstacker\u001b[38;5;241m.\u001b[39mget_result(\n\u001b[1;32m    521\u001b[0m     obj\u001b[38;5;241m.\u001b[39m_values, value_columns\u001b[38;5;241m=\u001b[39m\u001b[38;5;28;01mNone\u001b[39;00m, fill_value\u001b[38;5;241m=\u001b[39mfill_value\n\u001b[1;32m    522\u001b[0m )\n",
      "File \u001b[0;32m~/Code/machine-unlearning/.venv/lib64/python3.11/site-packages/pandas/core/reshape/reshape.py:154\u001b[0m, in \u001b[0;36m_Unstacker.__init__\u001b[0;34m(self, index, level, constructor, sort)\u001b[0m\n\u001b[1;32m    146\u001b[0m \u001b[38;5;28;01mif\u001b[39;00m num_cells \u001b[38;5;241m>\u001b[39m np\u001b[38;5;241m.\u001b[39miinfo(np\u001b[38;5;241m.\u001b[39mint32)\u001b[38;5;241m.\u001b[39mmax:\n\u001b[1;32m    147\u001b[0m     warnings\u001b[38;5;241m.\u001b[39mwarn(\n\u001b[1;32m    148\u001b[0m         \u001b[38;5;124mf\u001b[39m\u001b[38;5;124m\"\u001b[39m\u001b[38;5;124mThe following operation may generate \u001b[39m\u001b[38;5;132;01m{\u001b[39;00mnum_cells\u001b[38;5;132;01m}\u001b[39;00m\u001b[38;5;124m cells \u001b[39m\u001b[38;5;124m\"\u001b[39m\n\u001b[1;32m    149\u001b[0m         \u001b[38;5;124mf\u001b[39m\u001b[38;5;124m\"\u001b[39m\u001b[38;5;124min the resulting pandas object.\u001b[39m\u001b[38;5;124m\"\u001b[39m,\n\u001b[1;32m    150\u001b[0m         PerformanceWarning,\n\u001b[1;32m    151\u001b[0m         stacklevel\u001b[38;5;241m=\u001b[39mfind_stack_level(),\n\u001b[1;32m    152\u001b[0m     )\n\u001b[0;32m--> 154\u001b[0m \u001b[38;5;28;43mself\u001b[39;49m\u001b[38;5;241;43m.\u001b[39;49m\u001b[43m_make_selectors\u001b[49m\u001b[43m(\u001b[49m\u001b[43m)\u001b[49m\n",
      "File \u001b[0;32m~/Code/machine-unlearning/.venv/lib64/python3.11/site-packages/pandas/core/reshape/reshape.py:210\u001b[0m, in \u001b[0;36m_Unstacker._make_selectors\u001b[0;34m(self)\u001b[0m\n\u001b[1;32m    207\u001b[0m mask\u001b[38;5;241m.\u001b[39mput(selector, \u001b[38;5;28;01mTrue\u001b[39;00m)\n\u001b[1;32m    209\u001b[0m \u001b[38;5;28;01mif\u001b[39;00m mask\u001b[38;5;241m.\u001b[39msum() \u001b[38;5;241m<\u001b[39m \u001b[38;5;28mlen\u001b[39m(\u001b[38;5;28mself\u001b[39m\u001b[38;5;241m.\u001b[39mindex):\n\u001b[0;32m--> 210\u001b[0m     \u001b[38;5;28;01mraise\u001b[39;00m \u001b[38;5;167;01mValueError\u001b[39;00m(\u001b[38;5;124m\"\u001b[39m\u001b[38;5;124mIndex contains duplicate entries, cannot reshape\u001b[39m\u001b[38;5;124m\"\u001b[39m)\n\u001b[1;32m    212\u001b[0m \u001b[38;5;28mself\u001b[39m\u001b[38;5;241m.\u001b[39mgroup_index \u001b[38;5;241m=\u001b[39m comp_index\n\u001b[1;32m    213\u001b[0m \u001b[38;5;28mself\u001b[39m\u001b[38;5;241m.\u001b[39mmask \u001b[38;5;241m=\u001b[39m mask\n",
      "\u001b[0;31mValueError\u001b[0m: Index contains duplicate entries, cannot reshape"
     ]
    }
   ],
   "source": [
    "import pandas as pd\n",
    "import numpy as np\n",
    "import seaborn as sns\n",
    "import matplotlib.pyplot as plt\n",
    "\n",
    "# Convert the data to a pandas DataFrame\n",
    "data = json.load(open(\"grid_search_results.json\"))\n",
    "df = pd.DataFrame(data)\n",
    "\n",
    "# Extract hyperparameters\n",
    "df[\"train_dataset_percentage\"] = df[\"hyperparameters\"].apply(\n",
    "    lambda x: x[\"train_dataset_percentage\"]\n",
    ")\n",
    "df[\"num_epochs\"] = df[\"hyperparameters\"].apply(lambda x: x[\"num_epochs\"])\n",
    "df[\"learning_rate\"] = df[\"hyperparameters\"].apply(lambda x: x[\"learning_rate\"])\n",
    "\n",
    "# Calculate the best score\n",
    "df[\"best_score\"] = df.apply(\n",
    "    lambda x: ((100 - x[\"accuracy_target\"]) + x[\"accuracy_non_target\"]) / 2, axis=1\n",
    ")\n",
    "\n",
    "# Create a pivot table for the heatmap\n",
    "pivot_table = df.pivot(index=\"num_epochs\", columns=\"learning_rate\", values=\"best_score\")\n",
    "\n",
    "# Create the heatmap\n",
    "plt.figure(figsize=(12, 8))\n",
    "sns.heatmap(\n",
    "    pivot_table, annot=True, fmt=\".2f\", cmap=\"YlOrRd\", cbar_kws={\"label\": \"Best Score\"}\n",
    ")\n",
    "\n",
    "plt.title(\"Hyperparameter Sweep: Best Score Heatmap\")\n",
    "plt.xlabel(\"Learning Rate\")\n",
    "plt.ylabel(\"Number of Epochs\")\n",
    "\n",
    "# Add text annotation for train_dataset_percentage\n",
    "plt.text(\n",
    "    0.5,\n",
    "    -0.1,\n",
    "    f\"Train Dataset Percentage: {df['train_dataset_percentage'].unique()[0]}%\",\n",
    "    ha=\"center\",\n",
    "    va=\"center\",\n",
    "    transform=plt.gca().transAxes,\n",
    ")\n",
    "\n",
    "plt.tight_layout()\n",
    "plt.show()\n",
    "\n",
    "# Print the best hyperparameters\n",
    "best_row = df.loc[df[\"best_score\"].idxmax()]\n",
    "print(f\"Best Hyperparameters:\")\n",
    "print(f\"Train Dataset Percentage: {best_row['train_dataset_percentage']}%\")\n",
    "print(f\"Number of Epochs: {best_row['num_epochs']}\")\n",
    "print(f\"Learning Rate: {best_row['learning_rate']}\")\n",
    "print(f\"Best Score: {best_row['best_score']:.2f}\")"
   ]
  },
  {
   "cell_type": "code",
   "execution_count": 39,
   "metadata": {},
   "outputs": [
    {
     "data": {
      "application/vnd.plotly.v1+json": {
       "config": {
        "plotlyServerURL": "https://plot.ly"
       },
       "data": [
        {
         "hoverinfo": "text",
         "marker": {
          "color": [
           70.92222222222222,
           74.95555555555555,
           57.87222222222222,
           71.14444444444445,
           73.62777777777778,
           66.27777777777777,
           70.27222222222223,
           75.05,
           69.66111111111111,
           66.87777777777778,
           74.14444444444445,
           72.05555555555556,
           70.50555555555556,
           74.49444444444444,
           73.4888888888889,
           72.04444444444445,
           69.47222222222223,
           72.27777777777777,
           57.69444444444444,
           71.51666666666667,
           74.18333333333334,
           74.37222222222222,
           74.10555555555555,
           74.98333333333333,
           73.72222222222223,
           75.33888888888889,
           75.35,
           73.08888888888889,
           75.7611111111111,
           75.63888888888889,
           71.55,
           76.42222222222222,
           74.5,
           73.61111111111111,
           74.31666666666666,
           74.72777777777777,
           70.71111111111111,
           73.59444444444445,
           75.01111111111112,
           60.766666666666666,
           74.76111111111112,
           75.69444444444444,
           71.07222222222222,
           75.89444444444445,
           75.9888888888889,
           74.72222222222223,
           75.36666666666666,
           74.83888888888889,
           73.79444444444445,
           76.52777777777777,
           75.26111111111112,
           72.63888888888889,
           74.90555555555555,
           75.46111111111111,
           72.71666666666667,
           75.41666666666667,
           75.84444444444445,
           72.25555555555556,
           74.84444444444445,
           76.5111111111111
          ],
          "colorbar": {
           "title": {
            "text": "Best Score"
           }
          },
          "colorscale": [
           [
            0,
            "#440154"
           ],
           [
            0.1111111111111111,
            "#482878"
           ],
           [
            0.2222222222222222,
            "#3e4989"
           ],
           [
            0.3333333333333333,
            "#31688e"
           ],
           [
            0.4444444444444444,
            "#26828e"
           ],
           [
            0.5555555555555556,
            "#1f9e89"
           ],
           [
            0.6666666666666666,
            "#35b779"
           ],
           [
            0.7777777777777778,
            "#6ece58"
           ],
           [
            0.8888888888888888,
            "#b5de2b"
           ],
           [
            1,
            "#fde725"
           ]
          ],
          "opacity": 0.8,
          "size": [
           35.46111111111111,
           37.477777777777774,
           28.93611111111111,
           35.57222222222222,
           36.81388888888889,
           33.138888888888886,
           35.13611111111111,
           37.525,
           34.830555555555556,
           33.43888888888889,
           37.07222222222222,
           36.02777777777778,
           35.25277777777778,
           37.24722222222222,
           36.74444444444445,
           36.022222222222226,
           34.736111111111114,
           36.138888888888886,
           28.84722222222222,
           35.75833333333333,
           37.09166666666667,
           37.18611111111111,
           37.05277777777778,
           37.49166666666667,
           36.861111111111114,
           37.669444444444444,
           37.675,
           36.544444444444444,
           37.88055555555555,
           37.81944444444444,
           35.775,
           38.21111111111111,
           37.25,
           36.80555555555556,
           37.15833333333333,
           37.36388888888889,
           35.355555555555554,
           36.797222222222224,
           37.50555555555556,
           30.383333333333333,
           37.38055555555556,
           37.84722222222222,
           35.53611111111111,
           37.94722222222222,
           37.99444444444445,
           37.361111111111114,
           37.68333333333333,
           37.419444444444444,
           36.897222222222226,
           38.263888888888886,
           37.63055555555556,
           36.31944444444444,
           37.452777777777776,
           37.730555555555554,
           36.358333333333334,
           37.708333333333336,
           37.922222222222224,
           36.12777777777778,
           37.422222222222224,
           38.25555555555555
          ]
         },
         "mode": "markers",
         "text": [
          "Best Score: 70.92<br>Learning Rate: 0.01<br>Epochs: 1<br>Train %: 5",
          "Best Score: 74.96<br>Learning Rate: 0.001<br>Epochs: 1<br>Train %: 5",
          "Best Score: 57.87<br>Learning Rate: 0.0001<br>Epochs: 1<br>Train %: 5",
          "Best Score: 71.14<br>Learning Rate: 0.01<br>Epochs: 2<br>Train %: 5",
          "Best Score: 73.63<br>Learning Rate: 0.001<br>Epochs: 2<br>Train %: 5",
          "Best Score: 66.28<br>Learning Rate: 0.0001<br>Epochs: 2<br>Train %: 5",
          "Best Score: 70.27<br>Learning Rate: 0.01<br>Epochs: 3<br>Train %: 5",
          "Best Score: 75.05<br>Learning Rate: 0.001<br>Epochs: 3<br>Train %: 5",
          "Best Score: 69.66<br>Learning Rate: 0.0001<br>Epochs: 3<br>Train %: 5",
          "Best Score: 66.88<br>Learning Rate: 0.01<br>Epochs: 4<br>Train %: 5",
          "Best Score: 74.14<br>Learning Rate: 0.001<br>Epochs: 4<br>Train %: 5",
          "Best Score: 72.06<br>Learning Rate: 0.0001<br>Epochs: 4<br>Train %: 5",
          "Best Score: 70.51<br>Learning Rate: 0.01<br>Epochs: 5<br>Train %: 5",
          "Best Score: 74.49<br>Learning Rate: 0.001<br>Epochs: 5<br>Train %: 5",
          "Best Score: 73.49<br>Learning Rate: 0.0001<br>Epochs: 5<br>Train %: 5",
          "Best Score: 72.04<br>Learning Rate: 0.01<br>Epochs: 1<br>Train %: 25",
          "Best Score: 69.47<br>Learning Rate: 0.001<br>Epochs: 1<br>Train %: 25",
          "Best Score: 72.28<br>Learning Rate: 0.0001<br>Epochs: 1<br>Train %: 25",
          "Best Score: 57.69<br>Learning Rate: 0.01<br>Epochs: 2<br>Train %: 25",
          "Best Score: 71.52<br>Learning Rate: 0.001<br>Epochs: 2<br>Train %: 25",
          "Best Score: 74.18<br>Learning Rate: 0.0001<br>Epochs: 2<br>Train %: 25",
          "Best Score: 74.37<br>Learning Rate: 0.01<br>Epochs: 3<br>Train %: 25",
          "Best Score: 74.11<br>Learning Rate: 0.001<br>Epochs: 3<br>Train %: 25",
          "Best Score: 74.98<br>Learning Rate: 0.0001<br>Epochs: 3<br>Train %: 25",
          "Best Score: 73.72<br>Learning Rate: 0.01<br>Epochs: 4<br>Train %: 25",
          "Best Score: 75.34<br>Learning Rate: 0.001<br>Epochs: 4<br>Train %: 25",
          "Best Score: 75.35<br>Learning Rate: 0.0001<br>Epochs: 4<br>Train %: 25",
          "Best Score: 73.09<br>Learning Rate: 0.01<br>Epochs: 5<br>Train %: 25",
          "Best Score: 75.76<br>Learning Rate: 0.001<br>Epochs: 5<br>Train %: 25",
          "Best Score: 75.64<br>Learning Rate: 0.0001<br>Epochs: 5<br>Train %: 25",
          "Best Score: 71.55<br>Learning Rate: 0.01<br>Epochs: 1<br>Train %: 50",
          "Best Score: 76.42<br>Learning Rate: 0.001<br>Epochs: 1<br>Train %: 50",
          "Best Score: 74.50<br>Learning Rate: 0.0001<br>Epochs: 1<br>Train %: 50",
          "Best Score: 73.61<br>Learning Rate: 0.01<br>Epochs: 2<br>Train %: 50",
          "Best Score: 74.32<br>Learning Rate: 0.001<br>Epochs: 2<br>Train %: 50",
          "Best Score: 74.73<br>Learning Rate: 0.0001<br>Epochs: 2<br>Train %: 50",
          "Best Score: 70.71<br>Learning Rate: 0.01<br>Epochs: 3<br>Train %: 50",
          "Best Score: 73.59<br>Learning Rate: 0.001<br>Epochs: 3<br>Train %: 50",
          "Best Score: 75.01<br>Learning Rate: 0.0001<br>Epochs: 3<br>Train %: 50",
          "Best Score: 60.77<br>Learning Rate: 0.01<br>Epochs: 4<br>Train %: 50",
          "Best Score: 74.76<br>Learning Rate: 0.001<br>Epochs: 4<br>Train %: 50",
          "Best Score: 75.69<br>Learning Rate: 0.0001<br>Epochs: 4<br>Train %: 50",
          "Best Score: 71.07<br>Learning Rate: 0.01<br>Epochs: 5<br>Train %: 50",
          "Best Score: 75.89<br>Learning Rate: 0.001<br>Epochs: 5<br>Train %: 50",
          "Best Score: 75.99<br>Learning Rate: 0.0001<br>Epochs: 5<br>Train %: 50",
          "Best Score: 74.72<br>Learning Rate: 0.01<br>Epochs: 1<br>Train %: 100",
          "Best Score: 75.37<br>Learning Rate: 0.001<br>Epochs: 1<br>Train %: 100",
          "Best Score: 74.84<br>Learning Rate: 0.0001<br>Epochs: 1<br>Train %: 100",
          "Best Score: 73.79<br>Learning Rate: 0.01<br>Epochs: 2<br>Train %: 100",
          "Best Score: 76.53<br>Learning Rate: 0.001<br>Epochs: 2<br>Train %: 100",
          "Best Score: 75.26<br>Learning Rate: 0.0001<br>Epochs: 2<br>Train %: 100",
          "Best Score: 72.64<br>Learning Rate: 0.01<br>Epochs: 3<br>Train %: 100",
          "Best Score: 74.91<br>Learning Rate: 0.001<br>Epochs: 3<br>Train %: 100",
          "Best Score: 75.46<br>Learning Rate: 0.0001<br>Epochs: 3<br>Train %: 100",
          "Best Score: 72.72<br>Learning Rate: 0.01<br>Epochs: 4<br>Train %: 100",
          "Best Score: 75.42<br>Learning Rate: 0.001<br>Epochs: 4<br>Train %: 100",
          "Best Score: 75.84<br>Learning Rate: 0.0001<br>Epochs: 4<br>Train %: 100",
          "Best Score: 72.26<br>Learning Rate: 0.01<br>Epochs: 5<br>Train %: 100",
          "Best Score: 74.84<br>Learning Rate: 0.001<br>Epochs: 5<br>Train %: 100",
          "Best Score: 76.51<br>Learning Rate: 0.0001<br>Epochs: 5<br>Train %: 100"
         ],
         "type": "scatter3d",
         "x": [
          0.01,
          0.001,
          0.0001,
          0.01,
          0.001,
          0.0001,
          0.01,
          0.001,
          0.0001,
          0.01,
          0.001,
          0.0001,
          0.01,
          0.001,
          0.0001,
          0.01,
          0.001,
          0.0001,
          0.01,
          0.001,
          0.0001,
          0.01,
          0.001,
          0.0001,
          0.01,
          0.001,
          0.0001,
          0.01,
          0.001,
          0.0001,
          0.01,
          0.001,
          0.0001,
          0.01,
          0.001,
          0.0001,
          0.01,
          0.001,
          0.0001,
          0.01,
          0.001,
          0.0001,
          0.01,
          0.001,
          0.0001,
          0.01,
          0.001,
          0.0001,
          0.01,
          0.001,
          0.0001,
          0.01,
          0.001,
          0.0001,
          0.01,
          0.001,
          0.0001,
          0.01,
          0.001,
          0.0001
         ],
         "y": [
          1,
          1,
          1,
          2,
          2,
          2,
          3,
          3,
          3,
          4,
          4,
          4,
          5,
          5,
          5,
          1,
          1,
          1,
          2,
          2,
          2,
          3,
          3,
          3,
          4,
          4,
          4,
          5,
          5,
          5,
          1,
          1,
          1,
          2,
          2,
          2,
          3,
          3,
          3,
          4,
          4,
          4,
          5,
          5,
          5,
          1,
          1,
          1,
          2,
          2,
          2,
          3,
          3,
          3,
          4,
          4,
          4,
          5,
          5,
          5
         ],
         "z": [
          5,
          5,
          5,
          5,
          5,
          5,
          5,
          5,
          5,
          5,
          5,
          5,
          5,
          5,
          5,
          25,
          25,
          25,
          25,
          25,
          25,
          25,
          25,
          25,
          25,
          25,
          25,
          25,
          25,
          25,
          50,
          50,
          50,
          50,
          50,
          50,
          50,
          50,
          50,
          50,
          50,
          50,
          50,
          50,
          50,
          100,
          100,
          100,
          100,
          100,
          100,
          100,
          100,
          100,
          100,
          100,
          100,
          100,
          100,
          100
         ]
        }
       ],
       "layout": {
        "height": 800,
        "margin": {
         "b": 10,
         "l": 10,
         "r": 20,
         "t": 40
        },
        "scene": {
         "xaxis": {
          "title": {
           "text": "Learning Rate"
          }
         },
         "yaxis": {
          "title": {
           "text": "Number of Epochs"
          }
         },
         "zaxis": {
          "title": {
           "text": "Train Dataset Percentage"
          }
         }
        },
        "template": {
         "data": {
          "bar": [
           {
            "error_x": {
             "color": "#2a3f5f"
            },
            "error_y": {
             "color": "#2a3f5f"
            },
            "marker": {
             "line": {
              "color": "#E5ECF6",
              "width": 0.5
             },
             "pattern": {
              "fillmode": "overlay",
              "size": 10,
              "solidity": 0.2
             }
            },
            "type": "bar"
           }
          ],
          "barpolar": [
           {
            "marker": {
             "line": {
              "color": "#E5ECF6",
              "width": 0.5
             },
             "pattern": {
              "fillmode": "overlay",
              "size": 10,
              "solidity": 0.2
             }
            },
            "type": "barpolar"
           }
          ],
          "carpet": [
           {
            "aaxis": {
             "endlinecolor": "#2a3f5f",
             "gridcolor": "white",
             "linecolor": "white",
             "minorgridcolor": "white",
             "startlinecolor": "#2a3f5f"
            },
            "baxis": {
             "endlinecolor": "#2a3f5f",
             "gridcolor": "white",
             "linecolor": "white",
             "minorgridcolor": "white",
             "startlinecolor": "#2a3f5f"
            },
            "type": "carpet"
           }
          ],
          "choropleth": [
           {
            "colorbar": {
             "outlinewidth": 0,
             "ticks": ""
            },
            "type": "choropleth"
           }
          ],
          "contour": [
           {
            "colorbar": {
             "outlinewidth": 0,
             "ticks": ""
            },
            "colorscale": [
             [
              0,
              "#0d0887"
             ],
             [
              0.1111111111111111,
              "#46039f"
             ],
             [
              0.2222222222222222,
              "#7201a8"
             ],
             [
              0.3333333333333333,
              "#9c179e"
             ],
             [
              0.4444444444444444,
              "#bd3786"
             ],
             [
              0.5555555555555556,
              "#d8576b"
             ],
             [
              0.6666666666666666,
              "#ed7953"
             ],
             [
              0.7777777777777778,
              "#fb9f3a"
             ],
             [
              0.8888888888888888,
              "#fdca26"
             ],
             [
              1,
              "#f0f921"
             ]
            ],
            "type": "contour"
           }
          ],
          "contourcarpet": [
           {
            "colorbar": {
             "outlinewidth": 0,
             "ticks": ""
            },
            "type": "contourcarpet"
           }
          ],
          "heatmap": [
           {
            "colorbar": {
             "outlinewidth": 0,
             "ticks": ""
            },
            "colorscale": [
             [
              0,
              "#0d0887"
             ],
             [
              0.1111111111111111,
              "#46039f"
             ],
             [
              0.2222222222222222,
              "#7201a8"
             ],
             [
              0.3333333333333333,
              "#9c179e"
             ],
             [
              0.4444444444444444,
              "#bd3786"
             ],
             [
              0.5555555555555556,
              "#d8576b"
             ],
             [
              0.6666666666666666,
              "#ed7953"
             ],
             [
              0.7777777777777778,
              "#fb9f3a"
             ],
             [
              0.8888888888888888,
              "#fdca26"
             ],
             [
              1,
              "#f0f921"
             ]
            ],
            "type": "heatmap"
           }
          ],
          "heatmapgl": [
           {
            "colorbar": {
             "outlinewidth": 0,
             "ticks": ""
            },
            "colorscale": [
             [
              0,
              "#0d0887"
             ],
             [
              0.1111111111111111,
              "#46039f"
             ],
             [
              0.2222222222222222,
              "#7201a8"
             ],
             [
              0.3333333333333333,
              "#9c179e"
             ],
             [
              0.4444444444444444,
              "#bd3786"
             ],
             [
              0.5555555555555556,
              "#d8576b"
             ],
             [
              0.6666666666666666,
              "#ed7953"
             ],
             [
              0.7777777777777778,
              "#fb9f3a"
             ],
             [
              0.8888888888888888,
              "#fdca26"
             ],
             [
              1,
              "#f0f921"
             ]
            ],
            "type": "heatmapgl"
           }
          ],
          "histogram": [
           {
            "marker": {
             "pattern": {
              "fillmode": "overlay",
              "size": 10,
              "solidity": 0.2
             }
            },
            "type": "histogram"
           }
          ],
          "histogram2d": [
           {
            "colorbar": {
             "outlinewidth": 0,
             "ticks": ""
            },
            "colorscale": [
             [
              0,
              "#0d0887"
             ],
             [
              0.1111111111111111,
              "#46039f"
             ],
             [
              0.2222222222222222,
              "#7201a8"
             ],
             [
              0.3333333333333333,
              "#9c179e"
             ],
             [
              0.4444444444444444,
              "#bd3786"
             ],
             [
              0.5555555555555556,
              "#d8576b"
             ],
             [
              0.6666666666666666,
              "#ed7953"
             ],
             [
              0.7777777777777778,
              "#fb9f3a"
             ],
             [
              0.8888888888888888,
              "#fdca26"
             ],
             [
              1,
              "#f0f921"
             ]
            ],
            "type": "histogram2d"
           }
          ],
          "histogram2dcontour": [
           {
            "colorbar": {
             "outlinewidth": 0,
             "ticks": ""
            },
            "colorscale": [
             [
              0,
              "#0d0887"
             ],
             [
              0.1111111111111111,
              "#46039f"
             ],
             [
              0.2222222222222222,
              "#7201a8"
             ],
             [
              0.3333333333333333,
              "#9c179e"
             ],
             [
              0.4444444444444444,
              "#bd3786"
             ],
             [
              0.5555555555555556,
              "#d8576b"
             ],
             [
              0.6666666666666666,
              "#ed7953"
             ],
             [
              0.7777777777777778,
              "#fb9f3a"
             ],
             [
              0.8888888888888888,
              "#fdca26"
             ],
             [
              1,
              "#f0f921"
             ]
            ],
            "type": "histogram2dcontour"
           }
          ],
          "mesh3d": [
           {
            "colorbar": {
             "outlinewidth": 0,
             "ticks": ""
            },
            "type": "mesh3d"
           }
          ],
          "parcoords": [
           {
            "line": {
             "colorbar": {
              "outlinewidth": 0,
              "ticks": ""
             }
            },
            "type": "parcoords"
           }
          ],
          "pie": [
           {
            "automargin": true,
            "type": "pie"
           }
          ],
          "scatter": [
           {
            "fillpattern": {
             "fillmode": "overlay",
             "size": 10,
             "solidity": 0.2
            },
            "type": "scatter"
           }
          ],
          "scatter3d": [
           {
            "line": {
             "colorbar": {
              "outlinewidth": 0,
              "ticks": ""
             }
            },
            "marker": {
             "colorbar": {
              "outlinewidth": 0,
              "ticks": ""
             }
            },
            "type": "scatter3d"
           }
          ],
          "scattercarpet": [
           {
            "marker": {
             "colorbar": {
              "outlinewidth": 0,
              "ticks": ""
             }
            },
            "type": "scattercarpet"
           }
          ],
          "scattergeo": [
           {
            "marker": {
             "colorbar": {
              "outlinewidth": 0,
              "ticks": ""
             }
            },
            "type": "scattergeo"
           }
          ],
          "scattergl": [
           {
            "marker": {
             "colorbar": {
              "outlinewidth": 0,
              "ticks": ""
             }
            },
            "type": "scattergl"
           }
          ],
          "scattermapbox": [
           {
            "marker": {
             "colorbar": {
              "outlinewidth": 0,
              "ticks": ""
             }
            },
            "type": "scattermapbox"
           }
          ],
          "scatterpolar": [
           {
            "marker": {
             "colorbar": {
              "outlinewidth": 0,
              "ticks": ""
             }
            },
            "type": "scatterpolar"
           }
          ],
          "scatterpolargl": [
           {
            "marker": {
             "colorbar": {
              "outlinewidth": 0,
              "ticks": ""
             }
            },
            "type": "scatterpolargl"
           }
          ],
          "scatterternary": [
           {
            "marker": {
             "colorbar": {
              "outlinewidth": 0,
              "ticks": ""
             }
            },
            "type": "scatterternary"
           }
          ],
          "surface": [
           {
            "colorbar": {
             "outlinewidth": 0,
             "ticks": ""
            },
            "colorscale": [
             [
              0,
              "#0d0887"
             ],
             [
              0.1111111111111111,
              "#46039f"
             ],
             [
              0.2222222222222222,
              "#7201a8"
             ],
             [
              0.3333333333333333,
              "#9c179e"
             ],
             [
              0.4444444444444444,
              "#bd3786"
             ],
             [
              0.5555555555555556,
              "#d8576b"
             ],
             [
              0.6666666666666666,
              "#ed7953"
             ],
             [
              0.7777777777777778,
              "#fb9f3a"
             ],
             [
              0.8888888888888888,
              "#fdca26"
             ],
             [
              1,
              "#f0f921"
             ]
            ],
            "type": "surface"
           }
          ],
          "table": [
           {
            "cells": {
             "fill": {
              "color": "#EBF0F8"
             },
             "line": {
              "color": "white"
             }
            },
            "header": {
             "fill": {
              "color": "#C8D4E3"
             },
             "line": {
              "color": "white"
             }
            },
            "type": "table"
           }
          ]
         },
         "layout": {
          "annotationdefaults": {
           "arrowcolor": "#2a3f5f",
           "arrowhead": 0,
           "arrowwidth": 1
          },
          "autotypenumbers": "strict",
          "coloraxis": {
           "colorbar": {
            "outlinewidth": 0,
            "ticks": ""
           }
          },
          "colorscale": {
           "diverging": [
            [
             0,
             "#8e0152"
            ],
            [
             0.1,
             "#c51b7d"
            ],
            [
             0.2,
             "#de77ae"
            ],
            [
             0.3,
             "#f1b6da"
            ],
            [
             0.4,
             "#fde0ef"
            ],
            [
             0.5,
             "#f7f7f7"
            ],
            [
             0.6,
             "#e6f5d0"
            ],
            [
             0.7,
             "#b8e186"
            ],
            [
             0.8,
             "#7fbc41"
            ],
            [
             0.9,
             "#4d9221"
            ],
            [
             1,
             "#276419"
            ]
           ],
           "sequential": [
            [
             0,
             "#0d0887"
            ],
            [
             0.1111111111111111,
             "#46039f"
            ],
            [
             0.2222222222222222,
             "#7201a8"
            ],
            [
             0.3333333333333333,
             "#9c179e"
            ],
            [
             0.4444444444444444,
             "#bd3786"
            ],
            [
             0.5555555555555556,
             "#d8576b"
            ],
            [
             0.6666666666666666,
             "#ed7953"
            ],
            [
             0.7777777777777778,
             "#fb9f3a"
            ],
            [
             0.8888888888888888,
             "#fdca26"
            ],
            [
             1,
             "#f0f921"
            ]
           ],
           "sequentialminus": [
            [
             0,
             "#0d0887"
            ],
            [
             0.1111111111111111,
             "#46039f"
            ],
            [
             0.2222222222222222,
             "#7201a8"
            ],
            [
             0.3333333333333333,
             "#9c179e"
            ],
            [
             0.4444444444444444,
             "#bd3786"
            ],
            [
             0.5555555555555556,
             "#d8576b"
            ],
            [
             0.6666666666666666,
             "#ed7953"
            ],
            [
             0.7777777777777778,
             "#fb9f3a"
            ],
            [
             0.8888888888888888,
             "#fdca26"
            ],
            [
             1,
             "#f0f921"
            ]
           ]
          },
          "colorway": [
           "#636efa",
           "#EF553B",
           "#00cc96",
           "#ab63fa",
           "#FFA15A",
           "#19d3f3",
           "#FF6692",
           "#B6E880",
           "#FF97FF",
           "#FECB52"
          ],
          "font": {
           "color": "#2a3f5f"
          },
          "geo": {
           "bgcolor": "white",
           "lakecolor": "white",
           "landcolor": "#E5ECF6",
           "showlakes": true,
           "showland": true,
           "subunitcolor": "white"
          },
          "hoverlabel": {
           "align": "left"
          },
          "hovermode": "closest",
          "mapbox": {
           "style": "light"
          },
          "paper_bgcolor": "white",
          "plot_bgcolor": "#E5ECF6",
          "polar": {
           "angularaxis": {
            "gridcolor": "white",
            "linecolor": "white",
            "ticks": ""
           },
           "bgcolor": "#E5ECF6",
           "radialaxis": {
            "gridcolor": "white",
            "linecolor": "white",
            "ticks": ""
           }
          },
          "scene": {
           "xaxis": {
            "backgroundcolor": "#E5ECF6",
            "gridcolor": "white",
            "gridwidth": 2,
            "linecolor": "white",
            "showbackground": true,
            "ticks": "",
            "zerolinecolor": "white"
           },
           "yaxis": {
            "backgroundcolor": "#E5ECF6",
            "gridcolor": "white",
            "gridwidth": 2,
            "linecolor": "white",
            "showbackground": true,
            "ticks": "",
            "zerolinecolor": "white"
           },
           "zaxis": {
            "backgroundcolor": "#E5ECF6",
            "gridcolor": "white",
            "gridwidth": 2,
            "linecolor": "white",
            "showbackground": true,
            "ticks": "",
            "zerolinecolor": "white"
           }
          },
          "shapedefaults": {
           "line": {
            "color": "#2a3f5f"
           }
          },
          "ternary": {
           "aaxis": {
            "gridcolor": "white",
            "linecolor": "white",
            "ticks": ""
           },
           "baxis": {
            "gridcolor": "white",
            "linecolor": "white",
            "ticks": ""
           },
           "bgcolor": "#E5ECF6",
           "caxis": {
            "gridcolor": "white",
            "linecolor": "white",
            "ticks": ""
           }
          },
          "title": {
           "x": 0.05
          },
          "xaxis": {
           "automargin": true,
           "gridcolor": "white",
           "linecolor": "white",
           "ticks": "",
           "title": {
            "standoff": 15
           },
           "zerolinecolor": "white",
           "zerolinewidth": 2
          },
          "yaxis": {
           "automargin": true,
           "gridcolor": "white",
           "linecolor": "white",
           "ticks": "",
           "title": {
            "standoff": 15
           },
           "zerolinecolor": "white",
           "zerolinewidth": 2
          }
         }
        },
        "title": {
         "text": "3D Hyperparameter Sweep Visualization"
        },
        "width": 800
       }
      }
     },
     "metadata": {},
     "output_type": "display_data"
    }
   ],
   "source": [
    "import plotly.graph_objects as go\n",
    "import pandas as pd\n",
    "\n",
    "# Your data\n",
    "data = json.load(open(\"grid_search_results.json\"))\n",
    "\n",
    "# Convert the data to a pandas DataFrame\n",
    "df = pd.DataFrame(\n",
    "    [\n",
    "        {\n",
    "            **item[\"hyperparameters\"],\n",
    "            \"accuracy_target\": item[\"accuracy_target\"],\n",
    "            \"accuracy_non_target\": item[\"accuracy_non_target\"],\n",
    "        }\n",
    "        for item in data\n",
    "    ]\n",
    ")\n",
    "\n",
    "# Calculate the best score\n",
    "df[\"best_score\"] = ((100 - df[\"accuracy_target\"]) + df[\"accuracy_non_target\"]) / 2\n",
    "\n",
    "# Create the 3D scatter plot\n",
    "fig = go.Figure(\n",
    "    data=[\n",
    "        go.Scatter3d(\n",
    "            x=df[\"learning_rate\"],\n",
    "            y=df[\"num_epochs\"],\n",
    "            z=df[\"train_dataset_percentage\"],\n",
    "            mode=\"markers\",\n",
    "            marker=dict(\n",
    "                size=df[\"best_score\"]\n",
    "                / 2,  # Adjust the division factor to scale the size appropriately\n",
    "                color=df[\"best_score\"],\n",
    "                colorscale=\"Viridis\",\n",
    "                colorbar=dict(title=\"Best Score\"),\n",
    "                opacity=0.8,\n",
    "            ),\n",
    "            text=[\n",
    "                f\"Best Score: {score:.2f}<br>Learning Rate: {lr}<br>Epochs: {epochs}<br>Train %: {train_pct}\"\n",
    "                for score, lr, epochs, train_pct in zip(\n",
    "                    df[\"best_score\"],\n",
    "                    df[\"learning_rate\"],\n",
    "                    df[\"num_epochs\"],\n",
    "                    df[\"train_dataset_percentage\"],\n",
    "                )\n",
    "            ],\n",
    "            hoverinfo=\"text\",\n",
    "        )\n",
    "    ]\n",
    ")\n",
    "\n",
    "# Update the layout\n",
    "fig.update_layout(\n",
    "    title=\"3D Hyperparameter Sweep Visualization\",\n",
    "    scene=dict(\n",
    "        xaxis_title=\"Learning Rate\",\n",
    "        yaxis_title=\"Number of Epochs\",\n",
    "        zaxis_title=\"Train Dataset Percentage\",\n",
    "    ),\n",
    "    width=800,\n",
    "    height=800,\n",
    "    margin=dict(r=20, b=10, l=10, t=40),\n",
    ")\n",
    "\n",
    "# Show the plot\n",
    "fig.show()"
   ]
  },
  {
   "cell_type": "code",
   "execution_count": 47,
   "metadata": {},
   "outputs": [
    {
     "data": {
      "application/vnd.jupyter.widget-view+json": {
       "model_id": "b15865f109fe4823b6e6202f3d4964e8",
       "version_major": 2,
       "version_minor": 0
      },
      "text/plain": [
       "  0%|          | 0/313 [00:00<?, ?it/s]"
      ]
     },
     "metadata": {},
     "output_type": "display_data"
    },
    {
     "name": "stdout",
     "output_type": "stream",
     "text": [
      "Accuracy of the model on the target images: 0.1%\n",
      "Accuracy of the model on the non-target images: 44.86666666666667%\n",
      "Accuracy of the model on the test images: 40.39%\n",
      "              precision    recall  f1-score   support\n",
      "\n",
      "           0       0.59      0.45      0.51      1000\n",
      "           2       0.35      0.26      0.30      1000\n",
      "           3       0.29      0.29      0.29      1000\n",
      "           4       0.31      0.47      0.37      1000\n",
      "           5       0.41      0.39      0.40      1000\n",
      "           6       0.40      0.69      0.51      1000\n",
      "           7       0.68      0.35      0.46      1000\n",
      "           8       0.59      0.64      0.61      1000\n",
      "           9       0.67      0.52      0.58      1000\n",
      "\n",
      "    accuracy                           0.45      9000\n",
      "   macro avg       0.48      0.45      0.45      9000\n",
      "weighted avg       0.48      0.45      0.45      9000\n",
      "\n",
      "F1 score of the model on the test images: 0.4477874232609709\n"
     ]
    }
   ],
   "source": [
    "from tqdm.notebook import tqdm\n",
    "from sklearn.metrics import accuracy_score, f1_score, classification_report\n",
    "\n",
    "\n",
    "test_loader = DataLoader(\n",
    "    dataset[\"test\"].with_format(\"torch\"),\n",
    "    batch_size=32,\n",
    "    shuffle=False,\n",
    "    collate_fn=collate_fn,\n",
    ")\n",
    "\n",
    "\n",
    "def evaluate_model(model, test_loader, target_class):\n",
    "    model.eval()\n",
    "    with torch.no_grad():\n",
    "        correct = 0\n",
    "        total = 0\n",
    "        preds = []\n",
    "        targets = []\n",
    "        for batch in tqdm(test_loader):\n",
    "            images = batch[\"img\"].to(device)\n",
    "            labels = batch[\"label\"].to(device)\n",
    "            outputs = model(images)\n",
    "            _, predicted = torch.max(outputs.data, 1)\n",
    "            total += labels.size(0)\n",
    "            correct += (predicted == labels).sum().item()\n",
    "            preds.extend(predicted.cpu().numpy())\n",
    "            targets.extend(labels.cpu().numpy())\n",
    "\n",
    "            # Accuracy on target class\n",
    "        correct_target = 0\n",
    "        total_target = 0\n",
    "        for pred, target in zip(preds, targets):\n",
    "            if target == target_class:\n",
    "                total_target += 1\n",
    "                if pred == target:\n",
    "                    correct_target += 1\n",
    "\n",
    "        # Accuracy on non-target classes\n",
    "        correct_non_target = 0\n",
    "        total_non_target = 0\n",
    "        for pred, target in zip(preds, targets):\n",
    "            if target != target_class:\n",
    "                total_non_target += 1\n",
    "                if pred == target:\n",
    "                    correct_non_target += 1\n",
    "\n",
    "        accuracy_target = 100 * correct_target / total_target\n",
    "        accuracy_non_target = 100 * correct_non_target / total_non_target\n",
    "        return accuracy_target, accuracy_non_target, targets, preds\n",
    "\n",
    "\n",
    "model.eval()\n",
    "with torch.no_grad():\n",
    "    correct = 0\n",
    "    total = 0\n",
    "    preds = []\n",
    "    targets = []\n",
    "    for batch in tqdm(test_loader):\n",
    "        images = batch[\"img\"].to(device)\n",
    "        labels = batch[\"label\"].to(device)\n",
    "        outputs = model(images)\n",
    "\n",
    "        _, predicted = torch.max(outputs.data, 1)\n",
    "        total += labels.size(0)\n",
    "        correct += (predicted == labels).sum().item()\n",
    "        preds.extend(predicted.cpu().numpy())\n",
    "        targets.extend(labels.cpu().numpy())\n",
    "\n",
    "    # Accuracy on target class\n",
    "    correct_target = 0\n",
    "    total_target = 0\n",
    "    for pred, target in zip(preds, targets):\n",
    "        if target == target_class:\n",
    "            total_target += 1\n",
    "            if pred == target:\n",
    "                correct_target += 1\n",
    "\n",
    "    # Accuracy on non-target classes\n",
    "    correct_non_target = 0\n",
    "    total_non_target = 0\n",
    "    for pred, target in zip(preds, targets):\n",
    "        if target != target_class:\n",
    "            total_non_target += 1\n",
    "            if pred == target:\n",
    "                correct_non_target += 1\n",
    "    print(\n",
    "        f\"Accuracy of the model on the target images: {100 * correct_target / total_target}%\"\n",
    "    )\n",
    "\n",
    "    print(\n",
    "        f\"Accuracy of the model on the non-target images: {100 * correct_non_target / total_non_target}%\"\n",
    "    )\n",
    "    # find indexes of target class\n",
    "    target_indexes = [i for i, x in enumerate(targets) if x == target_class]\n",
    "\n",
    "    # remove target class from predictions and targets\n",
    "    preds = [pred for i, pred in enumerate(preds) if i not in target_indexes]\n",
    "    targets = [target for i, target in enumerate(targets) if i not in target_indexes]\n",
    "\n",
    "    print(f\"Accuracy of the model on the test images: {100 * correct / total}%\")\n",
    "    print(classification_report(targets, preds, zero_division=0))\n",
    "    print(\n",
    "        f\"F1 score of the model on the test images: {f1_score(targets, preds, average='macro')}\"\n",
    "    )"
   ]
  }
 ],
 "metadata": {
  "kernelspec": {
   "display_name": ".venv",
   "language": "python",
   "name": "python3"
  },
  "language_info": {
   "codemirror_mode": {
    "name": "ipython",
    "version": 3
   },
   "file_extension": ".py",
   "mimetype": "text/x-python",
   "name": "python",
   "nbconvert_exporter": "python",
   "pygments_lexer": "ipython3",
   "version": "3.11.9"
  }
 },
 "nbformat": 4,
 "nbformat_minor": 2
}
