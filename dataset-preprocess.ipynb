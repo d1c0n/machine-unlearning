{
 "cells": [
  {
   "cell_type": "code",
   "execution_count": 2,
   "metadata": {},
   "outputs": [],
   "source": [
    "import os\n",
    "import json"
   ]
  },
  {
   "cell_type": "code",
   "execution_count": 3,
   "metadata": {},
   "outputs": [],
   "source": [
    "dataset_path = \"./tiny-imagenet-200\"\n",
    "train_path = os.path.join(dataset_path, \"train\")\n",
    "val_path = os.path.join(dataset_path, \"val\")\n",
    "val_annotations_path = os.path.join(val_path, \"val_annotations.txt\")\n",
    "\n",
    "# Load the validation annotations\n",
    "val_annotations = {}\n",
    "with open(val_annotations_path, \"r\") as f:\n",
    "    for line in f:\n",
    "        line = line.strip().split(\"\\t\")\n",
    "        val_annotations[line[0]] = line[1]\n",
    "\n",
    "# Load the class labels\n",
    "class_labels = {}\n",
    "with open(os.path.join(dataset_path, \"words.txt\"), \"r\") as f:\n",
    "    for line in f:\n",
    "        line = line.strip().split(\"\\t\")\n",
    "        class_labels[line[0]] = line[1]\n",
    "\n",
    "# Load the training data\n",
    "train_data = []\n",
    "for class_name in os.listdir(train_path):\n",
    "    class_path = os.path.join(train_path, class_name, \"images\")\n",
    "    for image_name in os.listdir(class_path):\n",
    "        train_data.append(\n",
    "            {\n",
    "                \"image_path\": os.path.join(class_path, image_name),\n",
    "                \"class_name\": class_name,\n",
    "                \"class_label\": class_labels[class_name],\n",
    "            }\n",
    "        )\n",
    "\n",
    "# Load the validation data\n",
    "val_data = []\n",
    "for image_name in os.listdir(os.path.join(val_path, \"images\")):\n",
    "    val_data.append(\n",
    "        {\n",
    "            \"image_path\": os.path.join(val_path, \"images\", image_name),\n",
    "            \"class_name\": val_annotations[image_name],\n",
    "            \"class_label\": class_labels[val_annotations[image_name]],\n",
    "        }\n",
    "    )\n",
    "\n",
    "# Save the data\n",
    "with open(\"train_data.json\", \"w\") as f:\n",
    "    json.dump(train_data, f)\n",
    "\n",
    "with open(\"val_data.json\", \"w\") as f:\n",
    "    json.dump(val_data, f)"
   ]
  },
  {
   "cell_type": "code",
   "execution_count": 4,
   "metadata": {},
   "outputs": [],
   "source": [
    "with open(\"train_data.json\") as f:\n",
    "    with open(\"train_data.jsonl\", \"w\") as f1:\n",
    "        data = json.load(f)\n",
    "        for item in data:\n",
    "            f1.write(json.dumps(item) + \"\\n\")\n",
    "\n",
    "with open(\"val_data.json\") as f:\n",
    "    with open(\"val_data.jsonl\", \"w\") as f1:\n",
    "        data = json.load(f)\n",
    "        for item in data:\n",
    "            f1.write(json.dumps(item) + \"\\n\")"
   ]
  }
 ],
 "metadata": {
  "kernelspec": {
   "display_name": ".venv",
   "language": "python",
   "name": "python3"
  },
  "language_info": {
   "codemirror_mode": {
    "name": "ipython",
    "version": 3
   },
   "file_extension": ".py",
   "mimetype": "text/x-python",
   "name": "python",
   "nbconvert_exporter": "python",
   "pygments_lexer": "ipython3",
   "version": "3.11.9"
  }
 },
 "nbformat": 4,
 "nbformat_minor": 2
}
